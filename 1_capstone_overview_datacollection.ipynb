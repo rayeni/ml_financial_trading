{
 "cells": [
  {
   "cell_type": "markdown",
   "id": "eb9c67ec",
   "metadata": {},
   "source": [
    "# Capstone Project: Machine Learning and Financial Trading"
   ]
  },
  {
   "cell_type": "markdown",
   "id": "4c3730e9",
   "metadata": {},
   "source": [
    "## Overview"
   ]
  },
  {
   "cell_type": "markdown",
   "id": "6d15de2f",
   "metadata": {},
   "source": [
    "The idea of machine learning (ML) has been present for well over [60 years](https://en.wikipedia.org/wiki/Machine_learning#:~:text=The%20term%20machine%20learning%20was,computer%20gaming%20and%20artificial%20intelligence.). However, it's only recently _(over the last decade)_ that it has garnered a lot of attention _(from self-driving cars, to fraud detection, to product recommendations on online shopping platforms)_. There is little to no doubt about ML's contributions to solving real-world problems.\n",
    "\n",
    "Yet, in the area of trading and investing, there are mixed feelings about ML usefulness.  Although institutions make use of [ML to gain an advantage in the markets](https://robusttechhouse.com/list-of-funds-or-trading-firms-using-artificial-intelligence-or-machine-learning/), many [retail traders](https://www.investopedia.com/articles/active-trading/030515/what-difference-between-institutional-traders-and-retail-traders.asp#:~:text=Retail%20traders%20typically%20invest%20in,of%20shares%20at%20a%20time.) _(individuals who trade their own money via discount brokers)_ have not experienced the same benefits for a couple reasons--\n",
    "\n",
    "1. Lack of knowledge _(Some believe ML is difficult to understand, or that it simply offers no value)_\n",
    "\n",
    "2. Lack of resources _(Institutions have millions of dollars to invest network infrastructure and hundreds of PhDs to help gain an advantage in the markets)_\n"
   ]
  },
  {
   "cell_type": "markdown",
   "id": "8b161f21",
   "metadata": {},
   "source": [
    "## Problem Statement"
   ]
  },
  {
   "cell_type": "markdown",
   "id": "bb0480ad",
   "metadata": {},
   "source": [
    "Can machine learning enhance a retail trader's trading performance?"
   ]
  },
  {
   "cell_type": "markdown",
   "id": "c1a09fde",
   "metadata": {},
   "source": [
    "## Import Libraries"
   ]
  },
  {
   "cell_type": "code",
   "execution_count": 78,
   "id": "928aa5d8",
   "metadata": {
    "ExecuteTime": {
     "end_time": "2021-12-22T05:43:48.941811Z",
     "start_time": "2021-12-22T05:43:48.927801Z"
    }
   },
   "outputs": [],
   "source": [
    "# Import standard data analysis and manipulation libraries\n",
    "import pandas as pd\n",
    "import numpy as np\n",
    "\n",
    "# Import yfinance. Used to download financial data\n",
    "import yfinance as yf\n",
    "\n",
    "# Techincal Analysis Library\n",
    "import talib as ta"
   ]
  },
  {
   "cell_type": "markdown",
   "id": "5d3e8c55",
   "metadata": {},
   "source": [
    "## Data Collection"
   ]
  },
  {
   "cell_type": "markdown",
   "id": "a3ee3685",
   "metadata": {},
   "source": [
    "The data used in this project will be Gold ETF (`GLD`) price data downloaded from [Yahoo Finance](https://finance.yahoo.com/) using the [`yfinance`](https://anaconda.org/ranaroussi/yfinance) Python package."
   ]
  },
  {
   "cell_type": "markdown",
   "id": "5345afe8",
   "metadata": {
    "ExecuteTime": {
     "end_time": "2021-12-19T18:08:23.847785Z",
     "start_time": "2021-12-19T18:08:23.838784Z"
    }
   },
   "source": [
    "- Get two years of daily GLD pricing data."
   ]
  },
  {
   "cell_type": "code",
   "execution_count": 79,
   "id": "a658dd8a",
   "metadata": {
    "ExecuteTime": {
     "end_time": "2021-12-22T05:43:49.628983Z",
     "start_time": "2021-12-22T05:43:48.944017Z"
    }
   },
   "outputs": [
    {
     "name": "stdout",
     "output_type": "stream",
     "text": [
      "[*********************100%***********************]  1 of 1 completed\n"
     ]
    }
   ],
   "source": [
    "gld_data = yf.download('GLD', start=\"2011-01-01\", end=\"2021-12-21\", auto_adjust=True)"
   ]
  },
  {
   "cell_type": "markdown",
   "id": "50ccfc81",
   "metadata": {},
   "source": [
    "- Check dataframe information"
   ]
  },
  {
   "cell_type": "code",
   "execution_count": 80,
   "id": "6a00143b",
   "metadata": {
    "ExecuteTime": {
     "end_time": "2021-12-22T05:43:49.645388Z",
     "start_time": "2021-12-22T05:43:49.630983Z"
    },
    "scrolled": false
   },
   "outputs": [
    {
     "name": "stdout",
     "output_type": "stream",
     "text": [
      "<class 'pandas.core.frame.DataFrame'>\n",
      "DatetimeIndex: 2761 entries, 2011-01-03 to 2021-12-20\n",
      "Data columns (total 5 columns):\n",
      " #   Column  Non-Null Count  Dtype  \n",
      "---  ------  --------------  -----  \n",
      " 0   Open    2761 non-null   float64\n",
      " 1   High    2761 non-null   float64\n",
      " 2   Low     2761 non-null   float64\n",
      " 3   Close   2761 non-null   float64\n",
      " 4   Volume  2761 non-null   int64  \n",
      "dtypes: float64(4), int64(1)\n",
      "memory usage: 129.4 KB\n"
     ]
    }
   ],
   "source": [
    "gld_data.info()"
   ]
  },
  {
   "cell_type": "markdown",
   "id": "4ed54d21",
   "metadata": {},
   "source": [
    "- Check first five rows of data"
   ]
  },
  {
   "cell_type": "code",
   "execution_count": 81,
   "id": "51c8cfc8",
   "metadata": {
    "ExecuteTime": {
     "end_time": "2021-12-22T05:43:49.664280Z",
     "start_time": "2021-12-22T05:43:49.646503Z"
    }
   },
   "outputs": [
    {
     "data": {
      "text/html": [
       "<div>\n",
       "<style scoped>\n",
       "    .dataframe tbody tr th:only-of-type {\n",
       "        vertical-align: middle;\n",
       "    }\n",
       "\n",
       "    .dataframe tbody tr th {\n",
       "        vertical-align: top;\n",
       "    }\n",
       "\n",
       "    .dataframe thead th {\n",
       "        text-align: right;\n",
       "    }\n",
       "</style>\n",
       "<table border=\"1\" class=\"dataframe\">\n",
       "  <thead>\n",
       "    <tr style=\"text-align: right;\">\n",
       "      <th></th>\n",
       "      <th>Open</th>\n",
       "      <th>High</th>\n",
       "      <th>Low</th>\n",
       "      <th>Close</th>\n",
       "      <th>Volume</th>\n",
       "    </tr>\n",
       "    <tr>\n",
       "      <th>Date</th>\n",
       "      <th></th>\n",
       "      <th></th>\n",
       "      <th></th>\n",
       "      <th></th>\n",
       "      <th></th>\n",
       "    </tr>\n",
       "  </thead>\n",
       "  <tbody>\n",
       "    <tr>\n",
       "      <th>2011-01-03</th>\n",
       "      <td>138.669998</td>\n",
       "      <td>139.000000</td>\n",
       "      <td>137.880005</td>\n",
       "      <td>138.000000</td>\n",
       "      <td>11510200</td>\n",
       "    </tr>\n",
       "    <tr>\n",
       "      <th>2011-01-04</th>\n",
       "      <td>136.240005</td>\n",
       "      <td>136.279999</td>\n",
       "      <td>134.160004</td>\n",
       "      <td>134.750000</td>\n",
       "      <td>26154300</td>\n",
       "    </tr>\n",
       "    <tr>\n",
       "      <th>2011-01-05</th>\n",
       "      <td>133.500000</td>\n",
       "      <td>134.679993</td>\n",
       "      <td>133.100006</td>\n",
       "      <td>134.369995</td>\n",
       "      <td>16700900</td>\n",
       "    </tr>\n",
       "    <tr>\n",
       "      <th>2011-01-06</th>\n",
       "      <td>134.050003</td>\n",
       "      <td>134.380005</td>\n",
       "      <td>133.139999</td>\n",
       "      <td>133.830002</td>\n",
       "      <td>15965300</td>\n",
       "    </tr>\n",
       "    <tr>\n",
       "      <th>2011-01-07</th>\n",
       "      <td>133.380005</td>\n",
       "      <td>134.610001</td>\n",
       "      <td>133.179993</td>\n",
       "      <td>133.580002</td>\n",
       "      <td>16761400</td>\n",
       "    </tr>\n",
       "  </tbody>\n",
       "</table>\n",
       "</div>"
      ],
      "text/plain": [
       "                  Open        High         Low       Close    Volume\n",
       "Date                                                                \n",
       "2011-01-03  138.669998  139.000000  137.880005  138.000000  11510200\n",
       "2011-01-04  136.240005  136.279999  134.160004  134.750000  26154300\n",
       "2011-01-05  133.500000  134.679993  133.100006  134.369995  16700900\n",
       "2011-01-06  134.050003  134.380005  133.139999  133.830002  15965300\n",
       "2011-01-07  133.380005  134.610001  133.179993  133.580002  16761400"
      ]
     },
     "execution_count": 81,
     "metadata": {},
     "output_type": "execute_result"
    }
   ],
   "source": [
    "gld_data.head()"
   ]
  },
  {
   "cell_type": "markdown",
   "id": "67ad488d",
   "metadata": {},
   "source": [
    "- Check shape of dataframe"
   ]
  },
  {
   "cell_type": "code",
   "execution_count": 82,
   "id": "b3438e87",
   "metadata": {
    "ExecuteTime": {
     "end_time": "2021-12-22T05:43:49.680278Z",
     "start_time": "2021-12-22T05:43:49.666279Z"
    },
    "scrolled": true
   },
   "outputs": [
    {
     "data": {
      "text/plain": [
       "(2761, 5)"
      ]
     },
     "execution_count": 82,
     "metadata": {},
     "output_type": "execute_result"
    }
   ],
   "source": [
    "gld_data.shape"
   ]
  },
  {
   "cell_type": "markdown",
   "id": "3708d6f8",
   "metadata": {},
   "source": [
    "## Data Cleaning and Manipulation"
   ]
  },
  {
   "cell_type": "markdown",
   "id": "c95af2e8",
   "metadata": {},
   "source": [
    "In this section, the data needs to be checked for nulls.  After checking for nulls, additional columns for the [techinal indicators](https://www.investopedia.com/terms/t/technicalindicator.asp)."
   ]
  },
  {
   "cell_type": "markdown",
   "id": "6b089131",
   "metadata": {},
   "source": [
    "### Check for Nulls and Duplicates"
   ]
  },
  {
   "cell_type": "markdown",
   "id": "c77d964b",
   "metadata": {},
   "source": [
    "- Check for nulls"
   ]
  },
  {
   "cell_type": "code",
   "execution_count": 83,
   "id": "097913d4",
   "metadata": {
    "ExecuteTime": {
     "end_time": "2021-12-22T05:43:49.696351Z",
     "start_time": "2021-12-22T05:43:49.682283Z"
    }
   },
   "outputs": [
    {
     "data": {
      "text/plain": [
       "Open      0\n",
       "High      0\n",
       "Low       0\n",
       "Close     0\n",
       "Volume    0\n",
       "dtype: int64"
      ]
     },
     "execution_count": 83,
     "metadata": {},
     "output_type": "execute_result"
    }
   ],
   "source": [
    "gld_data.isnull().sum()"
   ]
  },
  {
   "cell_type": "markdown",
   "id": "b57a34de",
   "metadata": {},
   "source": [
    "- Check for duplicates"
   ]
  },
  {
   "cell_type": "markdown",
   "id": "7096da13",
   "metadata": {},
   "source": [
    "Duplicates can distort the accuracy of trading signals and should be removed."
   ]
  },
  {
   "cell_type": "code",
   "execution_count": 84,
   "id": "fc149457",
   "metadata": {
    "ExecuteTime": {
     "end_time": "2021-12-22T05:43:49.718623Z",
     "start_time": "2021-12-22T05:43:49.696351Z"
    }
   },
   "outputs": [],
   "source": [
    "gld_data1 = gld_data[gld_data.duplicated(keep=False)]"
   ]
  },
  {
   "cell_type": "markdown",
   "id": "cc4b3606",
   "metadata": {
    "ExecuteTime": {
     "end_time": "2021-12-19T19:03:09.441509Z",
     "start_time": "2021-12-19T19:03:09.424944Z"
    }
   },
   "source": [
    "The above result indicates that there are no duplicates rows in the data."
   ]
  },
  {
   "cell_type": "markdown",
   "id": "0c67cc51",
   "metadata": {},
   "source": [
    "- Drop the `Volume` column\n",
    "\n",
    "Since `Volume` data will not be used in this project, it can be dropped."
   ]
  },
  {
   "cell_type": "code",
   "execution_count": 85,
   "id": "e574a035",
   "metadata": {
    "ExecuteTime": {
     "end_time": "2021-12-22T05:43:49.734622Z",
     "start_time": "2021-12-22T05:43:49.721623Z"
    }
   },
   "outputs": [],
   "source": [
    "gld_data.drop(columns = 'Volume', inplace=True)"
   ]
  },
  {
   "cell_type": "markdown",
   "id": "8d8a4bb5",
   "metadata": {},
   "source": [
    "### Calculate Technical Indicators"
   ]
  },
  {
   "cell_type": "markdown",
   "id": "4fabfa40",
   "metadata": {},
   "source": [
    "Technical indicators are used to help traders determine when to enter and exit a trade.\n",
    "\n",
    "In this section, several technical indicators will be calculated and added to the `gld_data` dataframe.\n",
    "\n",
    "Instead of performing manual calculations to calculate technical indicators, the [TA-Lib](https://mrjbq7.github.io/ta-lib/) Python package will be used.\n",
    "\n"
   ]
  },
  {
   "cell_type": "markdown",
   "id": "955c9b87",
   "metadata": {},
   "source": [
    "- Calculate RSI\n",
    "\n",
    "Investopedia...\n",
    "\n",
    "_\"The [relative strength index](https://www.investopedia.com/terms/r/rsi.asp) (RSI) is a momentum indicator used in technical analysis that measures the magnitude of recent price changes to evaluate overbought or oversold conditions in the price of a stock or other asset.\"_"
   ]
  },
  {
   "cell_type": "code",
   "execution_count": 86,
   "id": "12646b1d",
   "metadata": {
    "ExecuteTime": {
     "end_time": "2021-12-22T05:43:49.750622Z",
     "start_time": "2021-12-22T05:43:49.736623Z"
    }
   },
   "outputs": [],
   "source": [
    "# Calculate the RSI\n",
    "gld_data['RSI'] = ta.RSI(gld_data['Close'], timeperiod=14)"
   ]
  },
  {
   "cell_type": "markdown",
   "id": "ef8ea7ce",
   "metadata": {},
   "source": [
    "- Calculate Parabolic SAR\n",
    "\n",
    "Investopedia...\n",
    "\n",
    "_\"The [parabolic SAR](https://www.investopedia.com/ask/answers/06/parabolicsar.asp), or parabolic stop and reverse, is a popular indicator that is mainly used by traders to determine the future short-term momentum of a given asset.\"_"
   ]
  },
  {
   "cell_type": "code",
   "execution_count": 87,
   "id": "bc04d297",
   "metadata": {
    "ExecuteTime": {
     "end_time": "2021-12-22T05:43:49.765622Z",
     "start_time": "2021-12-22T05:43:49.752623Z"
    }
   },
   "outputs": [],
   "source": [
    "# Calculate pSAR\n",
    "gld_data['pSAR'] = ta.SAR(gld_data['High'].values, \n",
    "                          gld_data['Low'].values,\n",
    "                          acceleration=0.02, \n",
    "                          maximum=0.2)"
   ]
  },
  {
   "cell_type": "markdown",
   "id": "5358332f",
   "metadata": {},
   "source": [
    "- Triple Exponential Moving Average\n",
    "\n",
    "Investopedia...\n",
    "\n",
    "_\"The [triple exponential moving average (TEMA)](https://www.investopedia.com/terms/t/triple-exponential-moving-average.asp)was designed to smooth price fluctuations, thereby making it easier to identify trends without the lag associated with traditional moving averages (MA)\"_"
   ]
  },
  {
   "cell_type": "code",
   "execution_count": 88,
   "id": "5e6559ce",
   "metadata": {
    "ExecuteTime": {
     "end_time": "2021-12-22T05:43:49.780324Z",
     "start_time": "2021-12-22T05:43:49.766670Z"
    }
   },
   "outputs": [],
   "source": [
    "# Calculate T3\n",
    "gld_data['TEMA'] = ta.T3(gld_data['Close'], timeperiod=5, vfactor=0)"
   ]
  },
  {
   "cell_type": "markdown",
   "id": "e488f5a2",
   "metadata": {},
   "source": [
    "- ADX"
   ]
  },
  {
   "cell_type": "markdown",
   "id": "9192ddff",
   "metadata": {},
   "source": [
    "Investopedia...\n",
    "\n",
    "_\"The [ADX](https://www.investopedia.com/articles/trading/07/adx-trend-indicator.asp)is used to quantify trend strength. ADX calculations are based on a moving average of price range expansion over a given period of time.\"_\n"
   ]
  },
  {
   "cell_type": "code",
   "execution_count": 89,
   "id": "d15107cf",
   "metadata": {
    "ExecuteTime": {
     "end_time": "2021-12-22T05:43:49.796324Z",
     "start_time": "2021-12-22T05:43:49.782325Z"
    }
   },
   "outputs": [],
   "source": [
    "# Calculate T3\n",
    "gld_data['ADX'] = ta.ADX(gld_data['High'], \n",
    "                         gld_data['Low'], \n",
    "                         gld_data['Close'], timeperiod=14)"
   ]
  },
  {
   "cell_type": "markdown",
   "id": "9a8444df",
   "metadata": {},
   "source": [
    "- Inspect data"
   ]
  },
  {
   "cell_type": "code",
   "execution_count": 90,
   "id": "ff230f07",
   "metadata": {
    "ExecuteTime": {
     "end_time": "2021-12-22T05:43:49.816886Z",
     "start_time": "2021-12-22T05:43:49.798325Z"
    }
   },
   "outputs": [
    {
     "data": {
      "text/html": [
       "<div>\n",
       "<style scoped>\n",
       "    .dataframe tbody tr th:only-of-type {\n",
       "        vertical-align: middle;\n",
       "    }\n",
       "\n",
       "    .dataframe tbody tr th {\n",
       "        vertical-align: top;\n",
       "    }\n",
       "\n",
       "    .dataframe thead th {\n",
       "        text-align: right;\n",
       "    }\n",
       "</style>\n",
       "<table border=\"1\" class=\"dataframe\">\n",
       "  <thead>\n",
       "    <tr style=\"text-align: right;\">\n",
       "      <th></th>\n",
       "      <th>Open</th>\n",
       "      <th>High</th>\n",
       "      <th>Low</th>\n",
       "      <th>Close</th>\n",
       "      <th>RSI</th>\n",
       "      <th>pSAR</th>\n",
       "      <th>TEMA</th>\n",
       "      <th>ADX</th>\n",
       "    </tr>\n",
       "    <tr>\n",
       "      <th>Date</th>\n",
       "      <th></th>\n",
       "      <th></th>\n",
       "      <th></th>\n",
       "      <th></th>\n",
       "      <th></th>\n",
       "      <th></th>\n",
       "      <th></th>\n",
       "      <th></th>\n",
       "    </tr>\n",
       "  </thead>\n",
       "  <tbody>\n",
       "    <tr>\n",
       "      <th>2011-01-03</th>\n",
       "      <td>138.669998</td>\n",
       "      <td>139.000000</td>\n",
       "      <td>137.880005</td>\n",
       "      <td>138.000000</td>\n",
       "      <td>NaN</td>\n",
       "      <td>NaN</td>\n",
       "      <td>NaN</td>\n",
       "      <td>NaN</td>\n",
       "    </tr>\n",
       "    <tr>\n",
       "      <th>2011-01-04</th>\n",
       "      <td>136.240005</td>\n",
       "      <td>136.279999</td>\n",
       "      <td>134.160004</td>\n",
       "      <td>134.750000</td>\n",
       "      <td>NaN</td>\n",
       "      <td>139.000000</td>\n",
       "      <td>NaN</td>\n",
       "      <td>NaN</td>\n",
       "    </tr>\n",
       "    <tr>\n",
       "      <th>2011-01-05</th>\n",
       "      <td>133.500000</td>\n",
       "      <td>134.679993</td>\n",
       "      <td>133.100006</td>\n",
       "      <td>134.369995</td>\n",
       "      <td>NaN</td>\n",
       "      <td>138.903200</td>\n",
       "      <td>NaN</td>\n",
       "      <td>NaN</td>\n",
       "    </tr>\n",
       "    <tr>\n",
       "      <th>2011-01-06</th>\n",
       "      <td>134.050003</td>\n",
       "      <td>134.380005</td>\n",
       "      <td>133.139999</td>\n",
       "      <td>133.830002</td>\n",
       "      <td>NaN</td>\n",
       "      <td>138.671072</td>\n",
       "      <td>NaN</td>\n",
       "      <td>NaN</td>\n",
       "    </tr>\n",
       "    <tr>\n",
       "      <th>2011-01-07</th>\n",
       "      <td>133.380005</td>\n",
       "      <td>134.610001</td>\n",
       "      <td>133.179993</td>\n",
       "      <td>133.580002</td>\n",
       "      <td>NaN</td>\n",
       "      <td>138.448230</td>\n",
       "      <td>NaN</td>\n",
       "      <td>NaN</td>\n",
       "    </tr>\n",
       "    <tr>\n",
       "      <th>...</th>\n",
       "      <td>...</td>\n",
       "      <td>...</td>\n",
       "      <td>...</td>\n",
       "      <td>...</td>\n",
       "      <td>...</td>\n",
       "      <td>...</td>\n",
       "      <td>...</td>\n",
       "      <td>...</td>\n",
       "    </tr>\n",
       "    <tr>\n",
       "      <th>2021-12-14</th>\n",
       "      <td>165.339996</td>\n",
       "      <td>166.139999</td>\n",
       "      <td>165.160004</td>\n",
       "      <td>165.440002</td>\n",
       "      <td>40.924239</td>\n",
       "      <td>167.686717</td>\n",
       "      <td>166.638833</td>\n",
       "      <td>11.175713</td>\n",
       "    </tr>\n",
       "    <tr>\n",
       "      <th>2021-12-15</th>\n",
       "      <td>165.270004</td>\n",
       "      <td>166.399994</td>\n",
       "      <td>163.800003</td>\n",
       "      <td>166.149994</td>\n",
       "      <td>44.258064</td>\n",
       "      <td>167.381046</td>\n",
       "      <td>166.549802</td>\n",
       "      <td>11.945480</td>\n",
       "    </tr>\n",
       "    <tr>\n",
       "      <th>2021-12-16</th>\n",
       "      <td>167.009995</td>\n",
       "      <td>168.179993</td>\n",
       "      <td>166.940002</td>\n",
       "      <td>168.160004</td>\n",
       "      <td>52.440786</td>\n",
       "      <td>163.800003</td>\n",
       "      <td>166.544353</td>\n",
       "      <td>11.471833</td>\n",
       "    </tr>\n",
       "    <tr>\n",
       "      <th>2021-12-17</th>\n",
       "      <td>168.729996</td>\n",
       "      <td>169.130005</td>\n",
       "      <td>167.779999</td>\n",
       "      <td>167.800003</td>\n",
       "      <td>50.996847</td>\n",
       "      <td>163.800003</td>\n",
       "      <td>166.611587</td>\n",
       "      <td>10.819805</td>\n",
       "    </tr>\n",
       "    <tr>\n",
       "      <th>2021-12-20</th>\n",
       "      <td>167.880005</td>\n",
       "      <td>168.000000</td>\n",
       "      <td>167.059998</td>\n",
       "      <td>167.089996</td>\n",
       "      <td>48.179221</td>\n",
       "      <td>164.013203</td>\n",
       "      <td>166.700645</td>\n",
       "      <td>10.289118</td>\n",
       "    </tr>\n",
       "  </tbody>\n",
       "</table>\n",
       "<p>2761 rows × 8 columns</p>\n",
       "</div>"
      ],
      "text/plain": [
       "                  Open        High         Low       Close        RSI  \\\n",
       "Date                                                                    \n",
       "2011-01-03  138.669998  139.000000  137.880005  138.000000        NaN   \n",
       "2011-01-04  136.240005  136.279999  134.160004  134.750000        NaN   \n",
       "2011-01-05  133.500000  134.679993  133.100006  134.369995        NaN   \n",
       "2011-01-06  134.050003  134.380005  133.139999  133.830002        NaN   \n",
       "2011-01-07  133.380005  134.610001  133.179993  133.580002        NaN   \n",
       "...                ...         ...         ...         ...        ...   \n",
       "2021-12-14  165.339996  166.139999  165.160004  165.440002  40.924239   \n",
       "2021-12-15  165.270004  166.399994  163.800003  166.149994  44.258064   \n",
       "2021-12-16  167.009995  168.179993  166.940002  168.160004  52.440786   \n",
       "2021-12-17  168.729996  169.130005  167.779999  167.800003  50.996847   \n",
       "2021-12-20  167.880005  168.000000  167.059998  167.089996  48.179221   \n",
       "\n",
       "                  pSAR        TEMA        ADX  \n",
       "Date                                           \n",
       "2011-01-03         NaN         NaN        NaN  \n",
       "2011-01-04  139.000000         NaN        NaN  \n",
       "2011-01-05  138.903200         NaN        NaN  \n",
       "2011-01-06  138.671072         NaN        NaN  \n",
       "2011-01-07  138.448230         NaN        NaN  \n",
       "...                ...         ...        ...  \n",
       "2021-12-14  167.686717  166.638833  11.175713  \n",
       "2021-12-15  167.381046  166.549802  11.945480  \n",
       "2021-12-16  163.800003  166.544353  11.471833  \n",
       "2021-12-17  163.800003  166.611587  10.819805  \n",
       "2021-12-20  164.013203  166.700645  10.289118  \n",
       "\n",
       "[2761 rows x 8 columns]"
      ]
     },
     "execution_count": 90,
     "metadata": {},
     "output_type": "execute_result"
    }
   ],
   "source": [
    "gld_data"
   ]
  },
  {
   "cell_type": "markdown",
   "id": "18858733",
   "metadata": {
    "ExecuteTime": {
     "end_time": "2021-12-20T01:28:04.316327Z",
     "start_time": "2021-12-20T01:28:04.300241Z"
    }
   },
   "source": [
    "### Drop Added Nulls"
   ]
  },
  {
   "cell_type": "markdown",
   "id": "201005f7",
   "metadata": {},
   "source": [
    "The calculation of technical indicators generated nulls that must be deleted. "
   ]
  },
  {
   "cell_type": "code",
   "execution_count": 91,
   "id": "846cf6b2",
   "metadata": {
    "ExecuteTime": {
     "end_time": "2021-12-22T05:43:49.832033Z",
     "start_time": "2021-12-22T05:43:49.819036Z"
    }
   },
   "outputs": [],
   "source": [
    "gld_data.dropna(inplace=True)"
   ]
  },
  {
   "cell_type": "code",
   "execution_count": 92,
   "id": "75a4a45f",
   "metadata": {
    "ExecuteTime": {
     "end_time": "2021-12-22T05:43:49.848031Z",
     "start_time": "2021-12-22T05:43:49.834032Z"
    }
   },
   "outputs": [
    {
     "data": {
      "text/plain": [
       "Open     0\n",
       "High     0\n",
       "Low      0\n",
       "Close    0\n",
       "RSI      0\n",
       "pSAR     0\n",
       "TEMA     0\n",
       "ADX      0\n",
       "dtype: int64"
      ]
     },
     "execution_count": 92,
     "metadata": {},
     "output_type": "execute_result"
    }
   ],
   "source": [
    "gld_data.isnull().sum()"
   ]
  },
  {
   "cell_type": "code",
   "execution_count": 93,
   "id": "b9f105f6",
   "metadata": {
    "ExecuteTime": {
     "end_time": "2021-12-22T05:43:49.870125Z",
     "start_time": "2021-12-22T05:43:49.849086Z"
    }
   },
   "outputs": [
    {
     "data": {
      "text/html": [
       "<div>\n",
       "<style scoped>\n",
       "    .dataframe tbody tr th:only-of-type {\n",
       "        vertical-align: middle;\n",
       "    }\n",
       "\n",
       "    .dataframe tbody tr th {\n",
       "        vertical-align: top;\n",
       "    }\n",
       "\n",
       "    .dataframe thead th {\n",
       "        text-align: right;\n",
       "    }\n",
       "</style>\n",
       "<table border=\"1\" class=\"dataframe\">\n",
       "  <thead>\n",
       "    <tr style=\"text-align: right;\">\n",
       "      <th></th>\n",
       "      <th>Open</th>\n",
       "      <th>High</th>\n",
       "      <th>Low</th>\n",
       "      <th>Close</th>\n",
       "      <th>RSI</th>\n",
       "      <th>pSAR</th>\n",
       "      <th>TEMA</th>\n",
       "      <th>ADX</th>\n",
       "    </tr>\n",
       "    <tr>\n",
       "      <th>Date</th>\n",
       "      <th></th>\n",
       "      <th></th>\n",
       "      <th></th>\n",
       "      <th></th>\n",
       "      <th></th>\n",
       "      <th></th>\n",
       "      <th></th>\n",
       "      <th></th>\n",
       "    </tr>\n",
       "  </thead>\n",
       "  <tbody>\n",
       "    <tr>\n",
       "      <th>2011-02-10</th>\n",
       "      <td>132.110001</td>\n",
       "      <td>133.309998</td>\n",
       "      <td>132.000000</td>\n",
       "      <td>132.850006</td>\n",
       "      <td>46.092442</td>\n",
       "      <td>128.876541</td>\n",
       "      <td>131.462458</td>\n",
       "      <td>33.107729</td>\n",
       "    </tr>\n",
       "    <tr>\n",
       "      <th>2011-02-11</th>\n",
       "      <td>133.009995</td>\n",
       "      <td>133.440002</td>\n",
       "      <td>132.089996</td>\n",
       "      <td>132.320007</td>\n",
       "      <td>44.099798</td>\n",
       "      <td>129.153949</td>\n",
       "      <td>131.675929</td>\n",
       "      <td>31.074322</td>\n",
       "    </tr>\n",
       "    <tr>\n",
       "      <th>2011-02-14</th>\n",
       "      <td>132.949997</td>\n",
       "      <td>133.380005</td>\n",
       "      <td>132.699997</td>\n",
       "      <td>132.949997</td>\n",
       "      <td>47.031123</td>\n",
       "      <td>129.414712</td>\n",
       "      <td>131.874588</td>\n",
       "      <td>29.186158</td>\n",
       "    </tr>\n",
       "    <tr>\n",
       "      <th>2011-02-15</th>\n",
       "      <td>133.860001</td>\n",
       "      <td>134.169998</td>\n",
       "      <td>133.630005</td>\n",
       "      <td>133.970001</td>\n",
       "      <td>51.468512</td>\n",
       "      <td>129.659829</td>\n",
       "      <td>132.094962</td>\n",
       "      <td>27.407409</td>\n",
       "    </tr>\n",
       "    <tr>\n",
       "      <th>2011-02-16</th>\n",
       "      <td>134.229996</td>\n",
       "      <td>134.860001</td>\n",
       "      <td>133.449997</td>\n",
       "      <td>134.100006</td>\n",
       "      <td>52.020217</td>\n",
       "      <td>130.020643</td>\n",
       "      <td>132.338897</td>\n",
       "      <td>26.263413</td>\n",
       "    </tr>\n",
       "    <tr>\n",
       "      <th>...</th>\n",
       "      <td>...</td>\n",
       "      <td>...</td>\n",
       "      <td>...</td>\n",
       "      <td>...</td>\n",
       "      <td>...</td>\n",
       "      <td>...</td>\n",
       "      <td>...</td>\n",
       "      <td>...</td>\n",
       "    </tr>\n",
       "    <tr>\n",
       "      <th>2021-12-14</th>\n",
       "      <td>165.339996</td>\n",
       "      <td>166.139999</td>\n",
       "      <td>165.160004</td>\n",
       "      <td>165.440002</td>\n",
       "      <td>40.924239</td>\n",
       "      <td>167.686717</td>\n",
       "      <td>166.638833</td>\n",
       "      <td>11.175713</td>\n",
       "    </tr>\n",
       "    <tr>\n",
       "      <th>2021-12-15</th>\n",
       "      <td>165.270004</td>\n",
       "      <td>166.399994</td>\n",
       "      <td>163.800003</td>\n",
       "      <td>166.149994</td>\n",
       "      <td>44.258064</td>\n",
       "      <td>167.381046</td>\n",
       "      <td>166.549802</td>\n",
       "      <td>11.945480</td>\n",
       "    </tr>\n",
       "    <tr>\n",
       "      <th>2021-12-16</th>\n",
       "      <td>167.009995</td>\n",
       "      <td>168.179993</td>\n",
       "      <td>166.940002</td>\n",
       "      <td>168.160004</td>\n",
       "      <td>52.440786</td>\n",
       "      <td>163.800003</td>\n",
       "      <td>166.544353</td>\n",
       "      <td>11.471833</td>\n",
       "    </tr>\n",
       "    <tr>\n",
       "      <th>2021-12-17</th>\n",
       "      <td>168.729996</td>\n",
       "      <td>169.130005</td>\n",
       "      <td>167.779999</td>\n",
       "      <td>167.800003</td>\n",
       "      <td>50.996847</td>\n",
       "      <td>163.800003</td>\n",
       "      <td>166.611587</td>\n",
       "      <td>10.819805</td>\n",
       "    </tr>\n",
       "    <tr>\n",
       "      <th>2021-12-20</th>\n",
       "      <td>167.880005</td>\n",
       "      <td>168.000000</td>\n",
       "      <td>167.059998</td>\n",
       "      <td>167.089996</td>\n",
       "      <td>48.179221</td>\n",
       "      <td>164.013203</td>\n",
       "      <td>166.700645</td>\n",
       "      <td>10.289118</td>\n",
       "    </tr>\n",
       "  </tbody>\n",
       "</table>\n",
       "<p>2734 rows × 8 columns</p>\n",
       "</div>"
      ],
      "text/plain": [
       "                  Open        High         Low       Close        RSI  \\\n",
       "Date                                                                    \n",
       "2011-02-10  132.110001  133.309998  132.000000  132.850006  46.092442   \n",
       "2011-02-11  133.009995  133.440002  132.089996  132.320007  44.099798   \n",
       "2011-02-14  132.949997  133.380005  132.699997  132.949997  47.031123   \n",
       "2011-02-15  133.860001  134.169998  133.630005  133.970001  51.468512   \n",
       "2011-02-16  134.229996  134.860001  133.449997  134.100006  52.020217   \n",
       "...                ...         ...         ...         ...        ...   \n",
       "2021-12-14  165.339996  166.139999  165.160004  165.440002  40.924239   \n",
       "2021-12-15  165.270004  166.399994  163.800003  166.149994  44.258064   \n",
       "2021-12-16  167.009995  168.179993  166.940002  168.160004  52.440786   \n",
       "2021-12-17  168.729996  169.130005  167.779999  167.800003  50.996847   \n",
       "2021-12-20  167.880005  168.000000  167.059998  167.089996  48.179221   \n",
       "\n",
       "                  pSAR        TEMA        ADX  \n",
       "Date                                           \n",
       "2011-02-10  128.876541  131.462458  33.107729  \n",
       "2011-02-11  129.153949  131.675929  31.074322  \n",
       "2011-02-14  129.414712  131.874588  29.186158  \n",
       "2011-02-15  129.659829  132.094962  27.407409  \n",
       "2011-02-16  130.020643  132.338897  26.263413  \n",
       "...                ...         ...        ...  \n",
       "2021-12-14  167.686717  166.638833  11.175713  \n",
       "2021-12-15  167.381046  166.549802  11.945480  \n",
       "2021-12-16  163.800003  166.544353  11.471833  \n",
       "2021-12-17  163.800003  166.611587  10.819805  \n",
       "2021-12-20  164.013203  166.700645  10.289118  \n",
       "\n",
       "[2734 rows x 8 columns]"
      ]
     },
     "execution_count": 93,
     "metadata": {},
     "output_type": "execute_result"
    }
   ],
   "source": [
    "gld_data"
   ]
  },
  {
   "cell_type": "markdown",
   "id": "3937b653",
   "metadata": {},
   "source": [
    "### Export Data to CSV For Analysis and Modeling"
   ]
  },
  {
   "cell_type": "code",
   "execution_count": 94,
   "id": "5d053784",
   "metadata": {
    "ExecuteTime": {
     "end_time": "2021-12-22T05:43:49.957087Z",
     "start_time": "2021-12-22T05:43:49.872124Z"
    }
   },
   "outputs": [],
   "source": [
    "gld_data.to_csv('./data/gld_data.csv')"
   ]
  }
 ],
 "metadata": {
  "kernelspec": {
   "display_name": "Python 3 (ipykernel)",
   "language": "python",
   "name": "python3"
  },
  "language_info": {
   "codemirror_mode": {
    "name": "ipython",
    "version": 3
   },
   "file_extension": ".py",
   "mimetype": "text/x-python",
   "name": "python",
   "nbconvert_exporter": "python",
   "pygments_lexer": "ipython3",
   "version": "3.8.12"
  }
 },
 "nbformat": 4,
 "nbformat_minor": 5
}
