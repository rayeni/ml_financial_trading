{
 "cells": [
  {
   "cell_type": "markdown",
   "id": "a3d6a587",
   "metadata": {},
   "source": [
    "# Capstone Project, EDA"
   ]
  },
  {
   "cell_type": "markdown",
   "id": "3b1b0652",
   "metadata": {},
   "source": [
    "This section will comprise of the following:\n",
    "\n",
    "1. An exploratory analysis of the data.\n",
    "\n",
    "\n",
    "2. An analysis of a basic trading strategy using the technical indicators that were created in the data collection section of the project."
   ]
  },
  {
   "cell_type": "markdown",
   "id": "cf280adb",
   "metadata": {},
   "source": [
    "## Import Libraries"
   ]
  },
  {
   "cell_type": "code",
   "execution_count": 208,
   "id": "d83678af",
   "metadata": {
    "ExecuteTime": {
     "end_time": "2021-12-22T05:44:23.925174Z",
     "start_time": "2021-12-22T05:44:23.905179Z"
    }
   },
   "outputs": [],
   "source": [
    "# Import standard data analysis and manipulation libraries\n",
    "import pandas as pd\n",
    "import numpy as np\n",
    "\n",
    "# Import charting library\n",
    "import matplotlib.pyplot as plt\n",
    "%matplotlib inline\n",
    "# Set the plot style\n",
    "plt.style.use('seaborn-darkgrid')"
   ]
  },
  {
   "cell_type": "markdown",
   "id": "b25f755a",
   "metadata": {},
   "source": [
    "## Import Data"
   ]
  },
  {
   "cell_type": "markdown",
   "id": "16b41264",
   "metadata": {},
   "source": [
    "The gld_data.csv file that was created in the data collection stage can be imported here."
   ]
  },
  {
   "cell_type": "code",
   "execution_count": 209,
   "id": "d462f109",
   "metadata": {
    "ExecuteTime": {
     "end_time": "2021-12-22T05:44:23.957452Z",
     "start_time": "2021-12-22T05:44:23.926274Z"
    }
   },
   "outputs": [],
   "source": [
    "gld_data = pd.read_csv('./data/gld_data.csv', index_col=0)"
   ]
  },
  {
   "cell_type": "code",
   "execution_count": 210,
   "id": "c6748478",
   "metadata": {
    "ExecuteTime": {
     "end_time": "2021-12-22T05:44:23.973555Z",
     "start_time": "2021-12-22T05:44:23.960457Z"
    }
   },
   "outputs": [
    {
     "data": {
      "text/html": [
       "<div>\n",
       "<style scoped>\n",
       "    .dataframe tbody tr th:only-of-type {\n",
       "        vertical-align: middle;\n",
       "    }\n",
       "\n",
       "    .dataframe tbody tr th {\n",
       "        vertical-align: top;\n",
       "    }\n",
       "\n",
       "    .dataframe thead th {\n",
       "        text-align: right;\n",
       "    }\n",
       "</style>\n",
       "<table border=\"1\" class=\"dataframe\">\n",
       "  <thead>\n",
       "    <tr style=\"text-align: right;\">\n",
       "      <th></th>\n",
       "      <th>Open</th>\n",
       "      <th>High</th>\n",
       "      <th>Low</th>\n",
       "      <th>Close</th>\n",
       "      <th>RSI</th>\n",
       "      <th>pSAR</th>\n",
       "      <th>TEMA</th>\n",
       "      <th>ADX</th>\n",
       "    </tr>\n",
       "    <tr>\n",
       "      <th>Date</th>\n",
       "      <th></th>\n",
       "      <th></th>\n",
       "      <th></th>\n",
       "      <th></th>\n",
       "      <th></th>\n",
       "      <th></th>\n",
       "      <th></th>\n",
       "      <th></th>\n",
       "    </tr>\n",
       "  </thead>\n",
       "  <tbody>\n",
       "    <tr>\n",
       "      <th>2011-02-10</th>\n",
       "      <td>132.110001</td>\n",
       "      <td>133.309998</td>\n",
       "      <td>132.000000</td>\n",
       "      <td>132.850006</td>\n",
       "      <td>46.092442</td>\n",
       "      <td>128.876541</td>\n",
       "      <td>131.462458</td>\n",
       "      <td>33.107729</td>\n",
       "    </tr>\n",
       "    <tr>\n",
       "      <th>2011-02-11</th>\n",
       "      <td>133.009995</td>\n",
       "      <td>133.440002</td>\n",
       "      <td>132.089996</td>\n",
       "      <td>132.320007</td>\n",
       "      <td>44.099798</td>\n",
       "      <td>129.153949</td>\n",
       "      <td>131.675929</td>\n",
       "      <td>31.074322</td>\n",
       "    </tr>\n",
       "    <tr>\n",
       "      <th>2011-02-14</th>\n",
       "      <td>132.949997</td>\n",
       "      <td>133.380005</td>\n",
       "      <td>132.699997</td>\n",
       "      <td>132.949997</td>\n",
       "      <td>47.031123</td>\n",
       "      <td>129.414712</td>\n",
       "      <td>131.874588</td>\n",
       "      <td>29.186158</td>\n",
       "    </tr>\n",
       "    <tr>\n",
       "      <th>2011-02-15</th>\n",
       "      <td>133.860001</td>\n",
       "      <td>134.169998</td>\n",
       "      <td>133.630005</td>\n",
       "      <td>133.970001</td>\n",
       "      <td>51.468512</td>\n",
       "      <td>129.659829</td>\n",
       "      <td>132.094962</td>\n",
       "      <td>27.407409</td>\n",
       "    </tr>\n",
       "    <tr>\n",
       "      <th>2011-02-16</th>\n",
       "      <td>134.229996</td>\n",
       "      <td>134.860001</td>\n",
       "      <td>133.449997</td>\n",
       "      <td>134.100006</td>\n",
       "      <td>52.020217</td>\n",
       "      <td>130.020643</td>\n",
       "      <td>132.338897</td>\n",
       "      <td>26.263413</td>\n",
       "    </tr>\n",
       "  </tbody>\n",
       "</table>\n",
       "</div>"
      ],
      "text/plain": [
       "                  Open        High         Low       Close        RSI  \\\n",
       "Date                                                                    \n",
       "2011-02-10  132.110001  133.309998  132.000000  132.850006  46.092442   \n",
       "2011-02-11  133.009995  133.440002  132.089996  132.320007  44.099798   \n",
       "2011-02-14  132.949997  133.380005  132.699997  132.949997  47.031123   \n",
       "2011-02-15  133.860001  134.169998  133.630005  133.970001  51.468512   \n",
       "2011-02-16  134.229996  134.860001  133.449997  134.100006  52.020217   \n",
       "\n",
       "                  pSAR        TEMA        ADX  \n",
       "Date                                           \n",
       "2011-02-10  128.876541  131.462458  33.107729  \n",
       "2011-02-11  129.153949  131.675929  31.074322  \n",
       "2011-02-14  129.414712  131.874588  29.186158  \n",
       "2011-02-15  129.659829  132.094962  27.407409  \n",
       "2011-02-16  130.020643  132.338897  26.263413  "
      ]
     },
     "execution_count": 210,
     "metadata": {},
     "output_type": "execute_result"
    }
   ],
   "source": [
    "gld_data.head()"
   ]
  },
  {
   "cell_type": "code",
   "execution_count": 211,
   "id": "d03b2766",
   "metadata": {
    "ExecuteTime": {
     "end_time": "2021-12-22T05:44:23.989184Z",
     "start_time": "2021-12-22T05:44:23.973555Z"
    }
   },
   "outputs": [
    {
     "name": "stdout",
     "output_type": "stream",
     "text": [
      "<class 'pandas.core.frame.DataFrame'>\n",
      "Index: 2734 entries, 2011-02-10 to 2021-12-20\n",
      "Data columns (total 8 columns):\n",
      " #   Column  Non-Null Count  Dtype  \n",
      "---  ------  --------------  -----  \n",
      " 0   Open    2734 non-null   float64\n",
      " 1   High    2734 non-null   float64\n",
      " 2   Low     2734 non-null   float64\n",
      " 3   Close   2734 non-null   float64\n",
      " 4   RSI     2734 non-null   float64\n",
      " 5   pSAR    2734 non-null   float64\n",
      " 6   TEMA    2734 non-null   float64\n",
      " 7   ADX     2734 non-null   float64\n",
      "dtypes: float64(8)\n",
      "memory usage: 192.2+ KB\n"
     ]
    }
   ],
   "source": [
    "gld_data.info()"
   ]
  },
  {
   "cell_type": "markdown",
   "id": "db8866da",
   "metadata": {},
   "source": [
    "## Data Modification"
   ]
  },
  {
   "cell_type": "markdown",
   "id": "dadb4707",
   "metadata": {},
   "source": [
    "The `Date` column needs to be restored to the `datetime`  data type."
   ]
  },
  {
   "cell_type": "code",
   "execution_count": 212,
   "id": "7b8a4567",
   "metadata": {
    "ExecuteTime": {
     "end_time": "2021-12-22T05:44:24.004362Z",
     "start_time": "2021-12-22T05:44:23.990368Z"
    }
   },
   "outputs": [],
   "source": [
    "gld_data.index = pd.to_datetime(gld_data.index)"
   ]
  },
  {
   "cell_type": "code",
   "execution_count": 213,
   "id": "a727e297",
   "metadata": {
    "ExecuteTime": {
     "end_time": "2021-12-22T05:44:24.019363Z",
     "start_time": "2021-12-22T05:44:24.006365Z"
    }
   },
   "outputs": [
    {
     "name": "stdout",
     "output_type": "stream",
     "text": [
      "<class 'pandas.core.frame.DataFrame'>\n",
      "DatetimeIndex: 2734 entries, 2011-02-10 to 2021-12-20\n",
      "Data columns (total 8 columns):\n",
      " #   Column  Non-Null Count  Dtype  \n",
      "---  ------  --------------  -----  \n",
      " 0   Open    2734 non-null   float64\n",
      " 1   High    2734 non-null   float64\n",
      " 2   Low     2734 non-null   float64\n",
      " 3   Close   2734 non-null   float64\n",
      " 4   RSI     2734 non-null   float64\n",
      " 5   pSAR    2734 non-null   float64\n",
      " 6   TEMA    2734 non-null   float64\n",
      " 7   ADX     2734 non-null   float64\n",
      "dtypes: float64(8)\n",
      "memory usage: 192.2 KB\n"
     ]
    }
   ],
   "source": [
    "gld_data.info()"
   ]
  },
  {
   "cell_type": "markdown",
   "id": "7c39e860",
   "metadata": {},
   "source": [
    "## Exploratory Data Analysis"
   ]
  },
  {
   "cell_type": "markdown",
   "id": "d52d2c69",
   "metadata": {},
   "source": [
    "### Behavior of Closing Prices"
   ]
  },
  {
   "cell_type": "markdown",
   "id": "b63a021d",
   "metadata": {},
   "source": [
    "The following will chart the closing price of GLD from Jan-2011 to Dec-2021."
   ]
  },
  {
   "cell_type": "code",
   "execution_count": 214,
   "id": "9b65a8f8",
   "metadata": {
    "ExecuteTime": {
     "end_time": "2021-12-22T05:44:24.254605Z",
     "start_time": "2021-12-22T05:44:24.021365Z"
    }
   },
   "outputs": [
    {
     "data": {
      "image/png": "[encoded data removed]",
      "text/plain": [
       "<Figure size 720x504 with 1 Axes>"
      ]
     },
     "metadata": {},
     "output_type": "display_data"
    }
   ],
   "source": [
    "# Plot closing GLD prices\n",
    "gld_data['Close'].plot(figsize=(10, 7), color='green')\n",
    "\n",
    "# Title\n",
    "plt.title(\"Daily Closing Price of GLD\", fontsize=14)\n",
    "\n",
    "# X-axis title\n",
    "plt.xlabel('Time (Daily)', fontsize=12)\n",
    "\n",
    "# Y-axis title\n",
    "plt.ylabel('Price ($)', fontsize=12)\n",
    "\n",
    "# Present graph\n",
    "plt.show()"
   ]
  },
  {
   "cell_type": "markdown",
   "id": "635cb4a5",
   "metadata": {},
   "source": [
    "Observations: \n",
    "\n",
    "1. From Jan-2011 to December 2021, there isn't a discernable pattern in the data.  That is, there isn't a clear uptrend or downtrend in the data.  \n",
    "\n",
    "\n",
    "2. However, when the data is viewed in smaller segments, there are clear patterns in the data.\n",
    "\n",
    "\n",
    "3. Between early 2011 to late 2011, there's a clear uptrend in closing prices.\n",
    "\n",
    "\n",
    "4. From 2012 to 2016 there was a strong downtrend in GLD, ending with a low of approximately \\\\$100.00 per share\n",
    "\n",
    "\n",
    "5. From 2016 to 2019, GLD was range bound between \\\\$110.00 and \\\\$130.00 per share.\n",
    "\n",
    "\n",
    "6. From late 2019 to early 2021, GLD was in a strong uptrend reaching \\\\$190.00 per share.\n",
    "\n",
    "7. Since early 2021 until now, GLD is in a downtrend."
   ]
  },
  {
   "cell_type": "markdown",
   "id": "7e87ebfe",
   "metadata": {
    "ExecuteTime": {
     "end_time": "2021-12-20T05:08:09.145150Z",
     "start_time": "2021-12-20T05:08:09.141149Z"
    }
   },
   "source": [
    "### Distribution of Daily Returns"
   ]
  },
  {
   "cell_type": "markdown",
   "id": "42e841e3",
   "metadata": {},
   "source": [
    "The following inspects the distribution of GLD's daily returns."
   ]
  },
  {
   "cell_type": "markdown",
   "id": "fb1b99c2",
   "metadata": {},
   "source": [
    "- Create `Daily_Return` Column"
   ]
  },
  {
   "cell_type": "code",
   "execution_count": 215,
   "id": "7dae6297",
   "metadata": {
    "ExecuteTime": {
     "end_time": "2021-12-22T05:44:24.270095Z",
     "start_time": "2021-12-22T05:44:24.257612Z"
    }
   },
   "outputs": [],
   "source": [
    "gld_data['Daily_Return'] = gld_data['Close'].pct_change()"
   ]
  },
  {
   "cell_type": "code",
   "execution_count": 216,
   "id": "ad776fab",
   "metadata": {
    "ExecuteTime": {
     "end_time": "2021-12-22T05:44:24.302097Z",
     "start_time": "2021-12-22T05:44:24.272096Z"
    }
   },
   "outputs": [
    {
     "data": {
      "text/html": [
       "<div>\n",
       "<style scoped>\n",
       "    .dataframe tbody tr th:only-of-type {\n",
       "        vertical-align: middle;\n",
       "    }\n",
       "\n",
       "    .dataframe tbody tr th {\n",
       "        vertical-align: top;\n",
       "    }\n",
       "\n",
       "    .dataframe thead th {\n",
       "        text-align: right;\n",
       "    }\n",
       "</style>\n",
       "<table border=\"1\" class=\"dataframe\">\n",
       "  <thead>\n",
       "    <tr style=\"text-align: right;\">\n",
       "      <th></th>\n",
       "      <th>Open</th>\n",
       "      <th>High</th>\n",
       "      <th>Low</th>\n",
       "      <th>Close</th>\n",
       "      <th>RSI</th>\n",
       "      <th>pSAR</th>\n",
       "      <th>TEMA</th>\n",
       "      <th>ADX</th>\n",
       "      <th>Daily_Return</th>\n",
       "    </tr>\n",
       "    <tr>\n",
       "      <th>Date</th>\n",
       "      <th></th>\n",
       "      <th></th>\n",
       "      <th></th>\n",
       "      <th></th>\n",
       "      <th></th>\n",
       "      <th></th>\n",
       "      <th></th>\n",
       "      <th></th>\n",
       "      <th></th>\n",
       "    </tr>\n",
       "  </thead>\n",
       "  <tbody>\n",
       "    <tr>\n",
       "      <th>2011-02-10</th>\n",
       "      <td>132.110001</td>\n",
       "      <td>133.309998</td>\n",
       "      <td>132.000000</td>\n",
       "      <td>132.850006</td>\n",
       "      <td>46.092442</td>\n",
       "      <td>128.876541</td>\n",
       "      <td>131.462458</td>\n",
       "      <td>33.107729</td>\n",
       "      <td>NaN</td>\n",
       "    </tr>\n",
       "    <tr>\n",
       "      <th>2011-02-11</th>\n",
       "      <td>133.009995</td>\n",
       "      <td>133.440002</td>\n",
       "      <td>132.089996</td>\n",
       "      <td>132.320007</td>\n",
       "      <td>44.099798</td>\n",
       "      <td>129.153949</td>\n",
       "      <td>131.675929</td>\n",
       "      <td>31.074322</td>\n",
       "      <td>-0.003989</td>\n",
       "    </tr>\n",
       "    <tr>\n",
       "      <th>2011-02-14</th>\n",
       "      <td>132.949997</td>\n",
       "      <td>133.380005</td>\n",
       "      <td>132.699997</td>\n",
       "      <td>132.949997</td>\n",
       "      <td>47.031123</td>\n",
       "      <td>129.414712</td>\n",
       "      <td>131.874588</td>\n",
       "      <td>29.186158</td>\n",
       "      <td>0.004761</td>\n",
       "    </tr>\n",
       "    <tr>\n",
       "      <th>2011-02-15</th>\n",
       "      <td>133.860001</td>\n",
       "      <td>134.169998</td>\n",
       "      <td>133.630005</td>\n",
       "      <td>133.970001</td>\n",
       "      <td>51.468512</td>\n",
       "      <td>129.659829</td>\n",
       "      <td>132.094962</td>\n",
       "      <td>27.407409</td>\n",
       "      <td>0.007672</td>\n",
       "    </tr>\n",
       "    <tr>\n",
       "      <th>2011-02-16</th>\n",
       "      <td>134.229996</td>\n",
       "      <td>134.860001</td>\n",
       "      <td>133.449997</td>\n",
       "      <td>134.100006</td>\n",
       "      <td>52.020217</td>\n",
       "      <td>130.020643</td>\n",
       "      <td>132.338897</td>\n",
       "      <td>26.263413</td>\n",
       "      <td>0.000970</td>\n",
       "    </tr>\n",
       "  </tbody>\n",
       "</table>\n",
       "</div>"
      ],
      "text/plain": [
       "                  Open        High         Low       Close        RSI  \\\n",
       "Date                                                                    \n",
       "2011-02-10  132.110001  133.309998  132.000000  132.850006  46.092442   \n",
       "2011-02-11  133.009995  133.440002  132.089996  132.320007  44.099798   \n",
       "2011-02-14  132.949997  133.380005  132.699997  132.949997  47.031123   \n",
       "2011-02-15  133.860001  134.169998  133.630005  133.970001  51.468512   \n",
       "2011-02-16  134.229996  134.860001  133.449997  134.100006  52.020217   \n",
       "\n",
       "                  pSAR        TEMA        ADX  Daily_Return  \n",
       "Date                                                         \n",
       "2011-02-10  128.876541  131.462458  33.107729           NaN  \n",
       "2011-02-11  129.153949  131.675929  31.074322     -0.003989  \n",
       "2011-02-14  129.414712  131.874588  29.186158      0.004761  \n",
       "2011-02-15  129.659829  132.094962  27.407409      0.007672  \n",
       "2011-02-16  130.020643  132.338897  26.263413      0.000970  "
      ]
     },
     "execution_count": 216,
     "metadata": {},
     "output_type": "execute_result"
    }
   ],
   "source": [
    "gld_data.head()"
   ]
  },
  {
   "cell_type": "code",
   "execution_count": 217,
   "id": "d9ea1932",
   "metadata": {
    "ExecuteTime": {
     "end_time": "2021-12-22T05:44:24.580049Z",
     "start_time": "2021-12-22T05:44:24.304099Z"
    }
   },
   "outputs": [
    {
     "data": {
      "image/png": "[encoded data removed]",
      "text/plain": [
       "<Figure size 720x504 with 1 Axes>"
      ]
     },
     "metadata": {},
     "output_type": "display_data"
    }
   ],
   "source": [
    "# Histogram of daily returns\n",
    "plt.figure(figsize=(10,7))\n",
    "gld_data['Daily_Return'].plot(kind='hist', bins=40, ec='black')\n",
    "\n",
    "# Title of the plot\n",
    "plt.title('Daily Returns of GLD', fontsize=14)\n",
    "\n",
    "# X-axis title\n",
    "plt.xlabel('Returns', fontsize=12)\n",
    "\n",
    "# Y-axis title\n",
    "plt.ylabel('Frequency', fontsize=12)\n",
    "\n",
    "# Show graph\n",
    "plt.show()"
   ]
  },
  {
   "cell_type": "code",
   "execution_count": 218,
   "id": "7ffb808d",
   "metadata": {
    "ExecuteTime": {
     "end_time": "2021-12-22T05:44:24.595050Z",
     "start_time": "2021-12-22T05:44:24.582049Z"
    }
   },
   "outputs": [
    {
     "data": {
      "text/plain": [
       "count    2733.000000\n",
       "mean        0.000133\n",
       "std         0.009866\n",
       "min        -0.087808\n",
       "25%        -0.004792\n",
       "50%         0.000407\n",
       "75%         0.005108\n",
       "max         0.049038\n",
       "Name: Daily_Return, dtype: float64"
      ]
     },
     "execution_count": 218,
     "metadata": {},
     "output_type": "execute_result"
    }
   ],
   "source": [
    "gld_data['Daily_Return'].describe()"
   ]
  },
  {
   "cell_type": "markdown",
   "id": "decbce6f",
   "metadata": {},
   "source": [
    "Observations:\n",
    "\n",
    "1. The mean for daily returns is very close to zero.\n",
    "\n",
    "\n",
    "2. Approximately 68% (1 SD) of the returns lie between, roughly, -0.95% and +0.95%.\n",
    "\n",
    "\n",
    "3. A daily returns of approximately of approximately -8.7% and +4.9% is rare and may present an opportunity to profit on a reversal."
   ]
  },
  {
   "cell_type": "markdown",
   "id": "6c7aa0b9",
   "metadata": {
    "ExecuteTime": {
     "end_time": "2021-12-20T19:10:31.504280Z",
     "start_time": "2021-12-20T19:10:31.484556Z"
    }
   },
   "source": [
    "## Strategy Development"
   ]
  },
  {
   "cell_type": "markdown",
   "id": "6aa3cf35",
   "metadata": {},
   "source": [
    "In this section a \"long only\" strategy will be developed, and its performance evaluated.  A \"long only\" _(i.e., buy only)_ strategy was chosen over a \"long short\" _(i.e., buy and sell)_ strategy, because an ETF is an asset and not a derivative _(i.e., a contract that controls an underlying asset such as a futures contract)_; hence, it's shares need to be borrowed in order to enter into a short _(i.e., sell)_ side trade.  There are no guarantees that shares are available for short trades, on demand."
   ]
  },
  {
   "cell_type": "markdown",
   "id": "19cc1fa0",
   "metadata": {},
   "source": [
    "- Create new column to store signal"
   ]
  },
  {
   "cell_type": "code",
   "execution_count": 219,
   "id": "010e1365",
   "metadata": {
    "ExecuteTime": {
     "end_time": "2021-12-22T05:44:24.616214Z",
     "start_time": "2021-12-22T05:44:24.597101Z"
    }
   },
   "outputs": [],
   "source": [
    "gld_data['signal'] = np.nan"
   ]
  },
  {
   "cell_type": "code",
   "execution_count": 220,
   "id": "97df806f",
   "metadata": {
    "ExecuteTime": {
     "end_time": "2021-12-22T05:44:24.645825Z",
     "start_time": "2021-12-22T05:44:24.618216Z"
    }
   },
   "outputs": [
    {
     "data": {
      "text/html": [
       "<div>\n",
       "<style scoped>\n",
       "    .dataframe tbody tr th:only-of-type {\n",
       "        vertical-align: middle;\n",
       "    }\n",
       "\n",
       "    .dataframe tbody tr th {\n",
       "        vertical-align: top;\n",
       "    }\n",
       "\n",
       "    .dataframe thead th {\n",
       "        text-align: right;\n",
       "    }\n",
       "</style>\n",
       "<table border=\"1\" class=\"dataframe\">\n",
       "  <thead>\n",
       "    <tr style=\"text-align: right;\">\n",
       "      <th></th>\n",
       "      <th>Open</th>\n",
       "      <th>High</th>\n",
       "      <th>Low</th>\n",
       "      <th>Close</th>\n",
       "      <th>RSI</th>\n",
       "      <th>pSAR</th>\n",
       "      <th>TEMA</th>\n",
       "      <th>ADX</th>\n",
       "      <th>Daily_Return</th>\n",
       "      <th>signal</th>\n",
       "    </tr>\n",
       "    <tr>\n",
       "      <th>Date</th>\n",
       "      <th></th>\n",
       "      <th></th>\n",
       "      <th></th>\n",
       "      <th></th>\n",
       "      <th></th>\n",
       "      <th></th>\n",
       "      <th></th>\n",
       "      <th></th>\n",
       "      <th></th>\n",
       "      <th></th>\n",
       "    </tr>\n",
       "  </thead>\n",
       "  <tbody>\n",
       "    <tr>\n",
       "      <th>2011-02-10</th>\n",
       "      <td>132.110001</td>\n",
       "      <td>133.309998</td>\n",
       "      <td>132.000000</td>\n",
       "      <td>132.850006</td>\n",
       "      <td>46.092442</td>\n",
       "      <td>128.876541</td>\n",
       "      <td>131.462458</td>\n",
       "      <td>33.107729</td>\n",
       "      <td>NaN</td>\n",
       "      <td>NaN</td>\n",
       "    </tr>\n",
       "    <tr>\n",
       "      <th>2011-02-11</th>\n",
       "      <td>133.009995</td>\n",
       "      <td>133.440002</td>\n",
       "      <td>132.089996</td>\n",
       "      <td>132.320007</td>\n",
       "      <td>44.099798</td>\n",
       "      <td>129.153949</td>\n",
       "      <td>131.675929</td>\n",
       "      <td>31.074322</td>\n",
       "      <td>-0.003989</td>\n",
       "      <td>NaN</td>\n",
       "    </tr>\n",
       "    <tr>\n",
       "      <th>2011-02-14</th>\n",
       "      <td>132.949997</td>\n",
       "      <td>133.380005</td>\n",
       "      <td>132.699997</td>\n",
       "      <td>132.949997</td>\n",
       "      <td>47.031123</td>\n",
       "      <td>129.414712</td>\n",
       "      <td>131.874588</td>\n",
       "      <td>29.186158</td>\n",
       "      <td>0.004761</td>\n",
       "      <td>NaN</td>\n",
       "    </tr>\n",
       "    <tr>\n",
       "      <th>2011-02-15</th>\n",
       "      <td>133.860001</td>\n",
       "      <td>134.169998</td>\n",
       "      <td>133.630005</td>\n",
       "      <td>133.970001</td>\n",
       "      <td>51.468512</td>\n",
       "      <td>129.659829</td>\n",
       "      <td>132.094962</td>\n",
       "      <td>27.407409</td>\n",
       "      <td>0.007672</td>\n",
       "      <td>NaN</td>\n",
       "    </tr>\n",
       "    <tr>\n",
       "      <th>2011-02-16</th>\n",
       "      <td>134.229996</td>\n",
       "      <td>134.860001</td>\n",
       "      <td>133.449997</td>\n",
       "      <td>134.100006</td>\n",
       "      <td>52.020217</td>\n",
       "      <td>130.020643</td>\n",
       "      <td>132.338897</td>\n",
       "      <td>26.263413</td>\n",
       "      <td>0.000970</td>\n",
       "      <td>NaN</td>\n",
       "    </tr>\n",
       "  </tbody>\n",
       "</table>\n",
       "</div>"
      ],
      "text/plain": [
       "                  Open        High         Low       Close        RSI  \\\n",
       "Date                                                                    \n",
       "2011-02-10  132.110001  133.309998  132.000000  132.850006  46.092442   \n",
       "2011-02-11  133.009995  133.440002  132.089996  132.320007  44.099798   \n",
       "2011-02-14  132.949997  133.380005  132.699997  132.949997  47.031123   \n",
       "2011-02-15  133.860001  134.169998  133.630005  133.970001  51.468512   \n",
       "2011-02-16  134.229996  134.860001  133.449997  134.100006  52.020217   \n",
       "\n",
       "                  pSAR        TEMA        ADX  Daily_Return  signal  \n",
       "Date                                                                 \n",
       "2011-02-10  128.876541  131.462458  33.107729           NaN     NaN  \n",
       "2011-02-11  129.153949  131.675929  31.074322     -0.003989     NaN  \n",
       "2011-02-14  129.414712  131.874588  29.186158      0.004761     NaN  \n",
       "2011-02-15  129.659829  132.094962  27.407409      0.007672     NaN  \n",
       "2011-02-16  130.020643  132.338897  26.263413      0.000970     NaN  "
      ]
     },
     "execution_count": 220,
     "metadata": {},
     "output_type": "execute_result"
    }
   ],
   "source": [
    "gld_data.head()"
   ]
  },
  {
   "cell_type": "markdown",
   "id": "fd83bb6d",
   "metadata": {},
   "source": [
    "- Create Long (Buy) signal\n",
    "\n",
    "> The following line checks whether all three BUY conditions are true.  If so, a long order is opened.  To simulate the opening of a trade, the `gld_data['signal']` column is set to 1. If not, no order is opened."
   ]
  },
  {
   "cell_type": "code",
   "execution_count": 221,
   "id": "dfed5a04",
   "metadata": {
    "ExecuteTime": {
     "end_time": "2021-12-22T05:44:24.660978Z",
     "start_time": "2021-12-22T05:44:24.647826Z"
    }
   },
   "outputs": [],
   "source": [
    "gld_data.loc[(gld_data['RSI'] < 80.0) &\n",
    "             (gld_data['ADX'] > 25) &\n",
    "             (gld_data['Daily_Return']).shift(1) > 0 &\n",
    "             (gld_data['Close'] > gld_data['pSAR']) & \n",
    "             (gld_data['Close'] > gld_data['TEMA']), 'signal'] = 1"
   ]
  },
  {
   "cell_type": "markdown",
   "id": "27ac8d74",
   "metadata": {},
   "source": [
    "- Create Exit signal\n",
    "\n",
    "> The following line checks both EXIT conditions are true.  If so, the previously opened BUY trade is closed.  If not, the previously opened BUY trade remains open."
   ]
  },
  {
   "cell_type": "code",
   "execution_count": 222,
   "id": "11535458",
   "metadata": {
    "ExecuteTime": {
     "end_time": "2021-12-22T05:44:24.677001Z",
     "start_time": "2021-12-22T05:44:24.662984Z"
    }
   },
   "outputs": [],
   "source": [
    "gld_data.loc[(gld_data['Close'] < gld_data['pSAR']) &\n",
    "             (gld_data['Close'] < gld_data['TEMA']), 'signal'] = 0"
   ]
  },
  {
   "cell_type": "code",
   "execution_count": 223,
   "id": "04795ff8",
   "metadata": {
    "ExecuteTime": {
     "end_time": "2021-12-22T05:44:24.697165Z",
     "start_time": "2021-12-22T05:44:24.678051Z"
    },
    "scrolled": true
   },
   "outputs": [
    {
     "data": {
      "text/html": [
       "<div>\n",
       "<style scoped>\n",
       "    .dataframe tbody tr th:only-of-type {\n",
       "        vertical-align: middle;\n",
       "    }\n",
       "\n",
       "    .dataframe tbody tr th {\n",
       "        vertical-align: top;\n",
       "    }\n",
       "\n",
       "    .dataframe thead th {\n",
       "        text-align: right;\n",
       "    }\n",
       "</style>\n",
       "<table border=\"1\" class=\"dataframe\">\n",
       "  <thead>\n",
       "    <tr style=\"text-align: right;\">\n",
       "      <th></th>\n",
       "      <th>Open</th>\n",
       "      <th>High</th>\n",
       "      <th>Low</th>\n",
       "      <th>Close</th>\n",
       "      <th>RSI</th>\n",
       "      <th>pSAR</th>\n",
       "      <th>TEMA</th>\n",
       "      <th>ADX</th>\n",
       "      <th>Daily_Return</th>\n",
       "      <th>signal</th>\n",
       "    </tr>\n",
       "    <tr>\n",
       "      <th>Date</th>\n",
       "      <th></th>\n",
       "      <th></th>\n",
       "      <th></th>\n",
       "      <th></th>\n",
       "      <th></th>\n",
       "      <th></th>\n",
       "      <th></th>\n",
       "      <th></th>\n",
       "      <th></th>\n",
       "      <th></th>\n",
       "    </tr>\n",
       "  </thead>\n",
       "  <tbody>\n",
       "    <tr>\n",
       "      <th>2011-02-10</th>\n",
       "      <td>132.110001</td>\n",
       "      <td>133.309998</td>\n",
       "      <td>132.000000</td>\n",
       "      <td>132.850006</td>\n",
       "      <td>46.092442</td>\n",
       "      <td>128.876541</td>\n",
       "      <td>131.462458</td>\n",
       "      <td>33.107729</td>\n",
       "      <td>NaN</td>\n",
       "      <td>NaN</td>\n",
       "    </tr>\n",
       "    <tr>\n",
       "      <th>2011-02-11</th>\n",
       "      <td>133.009995</td>\n",
       "      <td>133.440002</td>\n",
       "      <td>132.089996</td>\n",
       "      <td>132.320007</td>\n",
       "      <td>44.099798</td>\n",
       "      <td>129.153949</td>\n",
       "      <td>131.675929</td>\n",
       "      <td>31.074322</td>\n",
       "      <td>-0.003989</td>\n",
       "      <td>NaN</td>\n",
       "    </tr>\n",
       "    <tr>\n",
       "      <th>2011-02-14</th>\n",
       "      <td>132.949997</td>\n",
       "      <td>133.380005</td>\n",
       "      <td>132.699997</td>\n",
       "      <td>132.949997</td>\n",
       "      <td>47.031123</td>\n",
       "      <td>129.414712</td>\n",
       "      <td>131.874588</td>\n",
       "      <td>29.186158</td>\n",
       "      <td>0.004761</td>\n",
       "      <td>1.0</td>\n",
       "    </tr>\n",
       "    <tr>\n",
       "      <th>2011-02-15</th>\n",
       "      <td>133.860001</td>\n",
       "      <td>134.169998</td>\n",
       "      <td>133.630005</td>\n",
       "      <td>133.970001</td>\n",
       "      <td>51.468512</td>\n",
       "      <td>129.659829</td>\n",
       "      <td>132.094962</td>\n",
       "      <td>27.407409</td>\n",
       "      <td>0.007672</td>\n",
       "      <td>1.0</td>\n",
       "    </tr>\n",
       "    <tr>\n",
       "      <th>2011-02-16</th>\n",
       "      <td>134.229996</td>\n",
       "      <td>134.860001</td>\n",
       "      <td>133.449997</td>\n",
       "      <td>134.100006</td>\n",
       "      <td>52.020217</td>\n",
       "      <td>130.020643</td>\n",
       "      <td>132.338897</td>\n",
       "      <td>26.263413</td>\n",
       "      <td>0.000970</td>\n",
       "      <td>1.0</td>\n",
       "    </tr>\n",
       "  </tbody>\n",
       "</table>\n",
       "</div>"
      ],
      "text/plain": [
       "                  Open        High         Low       Close        RSI  \\\n",
       "Date                                                                    \n",
       "2011-02-10  132.110001  133.309998  132.000000  132.850006  46.092442   \n",
       "2011-02-11  133.009995  133.440002  132.089996  132.320007  44.099798   \n",
       "2011-02-14  132.949997  133.380005  132.699997  132.949997  47.031123   \n",
       "2011-02-15  133.860001  134.169998  133.630005  133.970001  51.468512   \n",
       "2011-02-16  134.229996  134.860001  133.449997  134.100006  52.020217   \n",
       "\n",
       "                  pSAR        TEMA        ADX  Daily_Return  signal  \n",
       "Date                                                                 \n",
       "2011-02-10  128.876541  131.462458  33.107729           NaN     NaN  \n",
       "2011-02-11  129.153949  131.675929  31.074322     -0.003989     NaN  \n",
       "2011-02-14  129.414712  131.874588  29.186158      0.004761     1.0  \n",
       "2011-02-15  129.659829  132.094962  27.407409      0.007672     1.0  \n",
       "2011-02-16  130.020643  132.338897  26.263413      0.000970     1.0  "
      ]
     },
     "execution_count": 223,
     "metadata": {},
     "output_type": "execute_result"
    }
   ],
   "source": [
    "gld_data.head()"
   ]
  },
  {
   "cell_type": "markdown",
   "id": "ffecf89f",
   "metadata": {},
   "source": [
    "- Fill `NaNs` with the last valid signal.\n",
    "\n",
    "> When the signal column was populated with either 0 or 1, it is clear that each row will not generate a signal, thereby leaving the original `NaNs` in place.  In this case, the fillna method is used to bring the last observed signal forward the next observed signal in the column."
   ]
  },
  {
   "cell_type": "code",
   "execution_count": 224,
   "id": "cc8f408e",
   "metadata": {
    "ExecuteTime": {
     "end_time": "2021-12-22T05:44:24.712165Z",
     "start_time": "2021-12-22T05:44:24.699164Z"
    },
    "scrolled": false
   },
   "outputs": [
    {
     "data": {
      "text/plain": [
       "Open               0\n",
       "High               0\n",
       "Low                0\n",
       "Close              0\n",
       "RSI                0\n",
       "pSAR               0\n",
       "TEMA               0\n",
       "ADX                0\n",
       "Daily_Return       1\n",
       "signal          1139\n",
       "dtype: int64"
      ]
     },
     "execution_count": 224,
     "metadata": {},
     "output_type": "execute_result"
    }
   ],
   "source": [
    "gld_data.isnull().sum()"
   ]
  },
  {
   "cell_type": "code",
   "execution_count": 225,
   "id": "e61052c5",
   "metadata": {
    "ExecuteTime": {
     "end_time": "2021-12-22T05:44:24.727712Z",
     "start_time": "2021-12-22T05:44:24.714165Z"
    }
   },
   "outputs": [],
   "source": [
    "gld_data = gld_data.fillna(method = 'ffill')"
   ]
  },
  {
   "cell_type": "code",
   "execution_count": 226,
   "id": "3a3808f0",
   "metadata": {
    "ExecuteTime": {
     "end_time": "2021-12-22T05:44:24.749271Z",
     "start_time": "2021-12-22T05:44:24.728765Z"
    }
   },
   "outputs": [
    {
     "data": {
      "text/plain": [
       "Open            0\n",
       "High            0\n",
       "Low             0\n",
       "Close           0\n",
       "RSI             0\n",
       "pSAR            0\n",
       "TEMA            0\n",
       "ADX             0\n",
       "Daily_Return    1\n",
       "signal          2\n",
       "dtype: int64"
      ]
     },
     "execution_count": 226,
     "metadata": {},
     "output_type": "execute_result"
    }
   ],
   "source": [
    "gld_data.isnull().sum()"
   ]
  },
  {
   "cell_type": "markdown",
   "id": "7db7d4c9",
   "metadata": {},
   "source": [
    ">There is one `NaN` remaining in the dataset.  It will be removed later, after calculating strategy returns."
   ]
  },
  {
   "cell_type": "markdown",
   "id": "31108a32",
   "metadata": {},
   "source": [
    "- Calculate strategy returns\n",
    "\n",
    "> To calculate strategy returns, the `Daily_Return` is multiplied by the previous day's `signal`. Here, it is assumed that the corresponding execution happens at the close of the day."
   ]
  },
  {
   "cell_type": "code",
   "execution_count": 227,
   "id": "7fa8aef6",
   "metadata": {
    "ExecuteTime": {
     "end_time": "2021-12-22T05:44:24.764779Z",
     "start_time": "2021-12-22T05:44:24.751273Z"
    }
   },
   "outputs": [],
   "source": [
    "gld_data['Strategy_Returns'] = (gld_data['Daily_Return'] * gld_data['signal'].shift(1))"
   ]
  },
  {
   "cell_type": "code",
   "execution_count": 228,
   "id": "f8eb8abf",
   "metadata": {
    "ExecuteTime": {
     "end_time": "2021-12-22T05:44:24.799144Z",
     "start_time": "2021-12-22T05:44:24.767008Z"
    }
   },
   "outputs": [
    {
     "data": {
      "text/html": [
       "<div>\n",
       "<style scoped>\n",
       "    .dataframe tbody tr th:only-of-type {\n",
       "        vertical-align: middle;\n",
       "    }\n",
       "\n",
       "    .dataframe tbody tr th {\n",
       "        vertical-align: top;\n",
       "    }\n",
       "\n",
       "    .dataframe thead th {\n",
       "        text-align: right;\n",
       "    }\n",
       "</style>\n",
       "<table border=\"1\" class=\"dataframe\">\n",
       "  <thead>\n",
       "    <tr style=\"text-align: right;\">\n",
       "      <th></th>\n",
       "      <th>Open</th>\n",
       "      <th>High</th>\n",
       "      <th>Low</th>\n",
       "      <th>Close</th>\n",
       "      <th>RSI</th>\n",
       "      <th>pSAR</th>\n",
       "      <th>TEMA</th>\n",
       "      <th>ADX</th>\n",
       "      <th>Daily_Return</th>\n",
       "      <th>signal</th>\n",
       "      <th>Strategy_Returns</th>\n",
       "    </tr>\n",
       "    <tr>\n",
       "      <th>Date</th>\n",
       "      <th></th>\n",
       "      <th></th>\n",
       "      <th></th>\n",
       "      <th></th>\n",
       "      <th></th>\n",
       "      <th></th>\n",
       "      <th></th>\n",
       "      <th></th>\n",
       "      <th></th>\n",
       "      <th></th>\n",
       "      <th></th>\n",
       "    </tr>\n",
       "  </thead>\n",
       "  <tbody>\n",
       "    <tr>\n",
       "      <th>2011-02-10</th>\n",
       "      <td>132.110001</td>\n",
       "      <td>133.309998</td>\n",
       "      <td>132.000000</td>\n",
       "      <td>132.850006</td>\n",
       "      <td>46.092442</td>\n",
       "      <td>128.876541</td>\n",
       "      <td>131.462458</td>\n",
       "      <td>33.107729</td>\n",
       "      <td>NaN</td>\n",
       "      <td>NaN</td>\n",
       "      <td>NaN</td>\n",
       "    </tr>\n",
       "    <tr>\n",
       "      <th>2011-02-11</th>\n",
       "      <td>133.009995</td>\n",
       "      <td>133.440002</td>\n",
       "      <td>132.089996</td>\n",
       "      <td>132.320007</td>\n",
       "      <td>44.099798</td>\n",
       "      <td>129.153949</td>\n",
       "      <td>131.675929</td>\n",
       "      <td>31.074322</td>\n",
       "      <td>-0.003989</td>\n",
       "      <td>NaN</td>\n",
       "      <td>NaN</td>\n",
       "    </tr>\n",
       "    <tr>\n",
       "      <th>2011-02-14</th>\n",
       "      <td>132.949997</td>\n",
       "      <td>133.380005</td>\n",
       "      <td>132.699997</td>\n",
       "      <td>132.949997</td>\n",
       "      <td>47.031123</td>\n",
       "      <td>129.414712</td>\n",
       "      <td>131.874588</td>\n",
       "      <td>29.186158</td>\n",
       "      <td>0.004761</td>\n",
       "      <td>1.0</td>\n",
       "      <td>NaN</td>\n",
       "    </tr>\n",
       "    <tr>\n",
       "      <th>2011-02-15</th>\n",
       "      <td>133.860001</td>\n",
       "      <td>134.169998</td>\n",
       "      <td>133.630005</td>\n",
       "      <td>133.970001</td>\n",
       "      <td>51.468512</td>\n",
       "      <td>129.659829</td>\n",
       "      <td>132.094962</td>\n",
       "      <td>27.407409</td>\n",
       "      <td>0.007672</td>\n",
       "      <td>1.0</td>\n",
       "      <td>0.007672</td>\n",
       "    </tr>\n",
       "    <tr>\n",
       "      <th>2011-02-16</th>\n",
       "      <td>134.229996</td>\n",
       "      <td>134.860001</td>\n",
       "      <td>133.449997</td>\n",
       "      <td>134.100006</td>\n",
       "      <td>52.020217</td>\n",
       "      <td>130.020643</td>\n",
       "      <td>132.338897</td>\n",
       "      <td>26.263413</td>\n",
       "      <td>0.000970</td>\n",
       "      <td>1.0</td>\n",
       "      <td>0.000970</td>\n",
       "    </tr>\n",
       "  </tbody>\n",
       "</table>\n",
       "</div>"
      ],
      "text/plain": [
       "                  Open        High         Low       Close        RSI  \\\n",
       "Date                                                                    \n",
       "2011-02-10  132.110001  133.309998  132.000000  132.850006  46.092442   \n",
       "2011-02-11  133.009995  133.440002  132.089996  132.320007  44.099798   \n",
       "2011-02-14  132.949997  133.380005  132.699997  132.949997  47.031123   \n",
       "2011-02-15  133.860001  134.169998  133.630005  133.970001  51.468512   \n",
       "2011-02-16  134.229996  134.860001  133.449997  134.100006  52.020217   \n",
       "\n",
       "                  pSAR        TEMA        ADX  Daily_Return  signal  \\\n",
       "Date                                                                  \n",
       "2011-02-10  128.876541  131.462458  33.107729           NaN     NaN   \n",
       "2011-02-11  129.153949  131.675929  31.074322     -0.003989     NaN   \n",
       "2011-02-14  129.414712  131.874588  29.186158      0.004761     1.0   \n",
       "2011-02-15  129.659829  132.094962  27.407409      0.007672     1.0   \n",
       "2011-02-16  130.020643  132.338897  26.263413      0.000970     1.0   \n",
       "\n",
       "            Strategy_Returns  \n",
       "Date                          \n",
       "2011-02-10               NaN  \n",
       "2011-02-11               NaN  \n",
       "2011-02-14               NaN  \n",
       "2011-02-15          0.007672  \n",
       "2011-02-16          0.000970  "
      ]
     },
     "execution_count": 228,
     "metadata": {},
     "output_type": "execute_result"
    }
   ],
   "source": [
    "gld_data.head()"
   ]
  },
  {
   "cell_type": "markdown",
   "id": "84527cb0",
   "metadata": {},
   "source": [
    "- Drop any remaining `NaNs`."
   ]
  },
  {
   "cell_type": "code",
   "execution_count": 229,
   "id": "fd61cdee",
   "metadata": {
    "ExecuteTime": {
     "end_time": "2021-12-22T05:44:24.813682Z",
     "start_time": "2021-12-22T05:44:24.801145Z"
    }
   },
   "outputs": [],
   "source": [
    "gld_data = gld_data.dropna()"
   ]
  },
  {
   "cell_type": "code",
   "execution_count": 230,
   "id": "93b55e66",
   "metadata": {
    "ExecuteTime": {
     "end_time": "2021-12-22T05:44:24.828683Z",
     "start_time": "2021-12-22T05:44:24.817686Z"
    }
   },
   "outputs": [
    {
     "data": {
      "text/plain": [
       "Open                0\n",
       "High                0\n",
       "Low                 0\n",
       "Close               0\n",
       "RSI                 0\n",
       "pSAR                0\n",
       "TEMA                0\n",
       "ADX                 0\n",
       "Daily_Return        0\n",
       "signal              0\n",
       "Strategy_Returns    0\n",
       "dtype: int64"
      ]
     },
     "execution_count": 230,
     "metadata": {},
     "output_type": "execute_result"
    }
   ],
   "source": [
    "gld_data.isnull().sum()"
   ]
  },
  {
   "cell_type": "markdown",
   "id": "5958a282",
   "metadata": {},
   "source": [
    "- Calculate cumulative strategy returns\n",
    "\n",
    "> The following line will sum the strategy's total return.\n",
    "\n"
   ]
  },
  {
   "cell_type": "code",
   "execution_count": 231,
   "id": "d011e847",
   "metadata": {
    "ExecuteTime": {
     "end_time": "2021-12-22T05:44:24.848776Z",
     "start_time": "2021-12-22T05:44:24.830732Z"
    }
   },
   "outputs": [],
   "source": [
    "cumulative_strategy_returns = (gld_data['Strategy_Returns']+1).cumprod()"
   ]
  },
  {
   "cell_type": "code",
   "execution_count": 232,
   "id": "6df9b4f6",
   "metadata": {
    "ExecuteTime": {
     "end_time": "2021-12-22T05:44:24.863775Z",
     "start_time": "2021-12-22T05:44:24.850779Z"
    }
   },
   "outputs": [
    {
     "data": {
      "text/plain": [
       "Date\n",
       "2011-02-15    1.007672\n",
       "2011-02-16    1.008650\n",
       "2011-02-17    1.015720\n",
       "2011-02-18    1.018503\n",
       "2011-02-22    1.025122\n",
       "                ...   \n",
       "2021-12-14    1.063103\n",
       "2021-12-15    1.063103\n",
       "2021-12-16    1.063103\n",
       "2021-12-17    1.063103\n",
       "2021-12-20    1.063103\n",
       "Name: Strategy_Returns, Length: 2731, dtype: float64"
      ]
     },
     "execution_count": 232,
     "metadata": {},
     "output_type": "execute_result"
    }
   ],
   "source": [
    "cumulative_strategy_returns"
   ]
  },
  {
   "cell_type": "markdown",
   "id": "19f1ff3b",
   "metadata": {},
   "source": [
    "- Plot the cumulative strategy returns"
   ]
  },
  {
   "cell_type": "code",
   "execution_count": 233,
   "id": "0bb5f302",
   "metadata": {
    "ExecuteTime": {
     "end_time": "2021-12-22T05:44:25.097790Z",
     "start_time": "2021-12-22T05:44:24.865779Z"
    }
   },
   "outputs": [
    {
     "data": {
      "image/png": "[encoded data removed]",
      "text/plain": [
       "<Figure size 720x504 with 1 Axes>"
      ]
     },
     "metadata": {},
     "output_type": "display_data"
    }
   ],
   "source": [
    "cumulative_strategy_returns.plot(figsize=(10, 7))\n",
    "\n",
    "plt.title('Cumulative Strategy Returns', fontsize=14)\n",
    "plt.xlabel('Date', fontsize=12)\n",
    "plt.ylabel('Strategy Returns', fontsize=12)\n",
    "plt.show()"
   ]
  },
  {
   "cell_type": "markdown",
   "id": "d09f414b",
   "metadata": {
    "ExecuteTime": {
     "end_time": "2021-12-21T03:24:43.772499Z",
     "start_time": "2021-12-21T03:24:43.757499Z"
    }
   },
   "source": [
    "- Calculate the absolute returns"
   ]
  },
  {
   "cell_type": "code",
   "execution_count": 234,
   "id": "60d54d48",
   "metadata": {
    "ExecuteTime": {
     "end_time": "2021-12-22T05:44:25.113790Z",
     "start_time": "2021-12-22T05:44:25.099792Z"
    }
   },
   "outputs": [
    {
     "name": "stdout",
     "output_type": "stream",
     "text": [
      "The total returns of strategy is 6.31%\n"
     ]
    }
   ],
   "source": [
    "total_returns = (cumulative_strategy_returns.iloc[-1]-1)*100\n",
    "\n",
    "print('The total returns of strategy is %.2f' % total_returns + '%')"
   ]
  }
 ],
 "metadata": {
  "kernelspec": {
   "display_name": "Python 3 (ipykernel)",
   "language": "python",
   "name": "python3"
  },
  "language_info": {
   "codemirror_mode": {
    "name": "ipython",
    "version": 3
   },
   "file_extension": ".py",
   "mimetype": "text/x-python",
   "name": "python",
   "nbconvert_exporter": "python",
   "pygments_lexer": "ipython3",
   "version": "3.8.12"
  }
 },
 "nbformat": 4,
 "nbformat_minor": 5
}
