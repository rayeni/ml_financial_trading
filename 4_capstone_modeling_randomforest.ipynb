{
 "cells": [
  {
   "cell_type": "markdown",
   "id": "81c1feb0",
   "metadata": {},
   "source": [
    "# Capstone Project, Model #2: Random Forest Classifier"
   ]
  },
  {
   "cell_type": "markdown",
   "id": "b8897392",
   "metadata": {},
   "source": [
    "In this section, a RandomForestClassifier model will be created.  \n",
    "\n",
    "After the model is created, it will learn from the data developed in the Data Collection and EDA phases, after which the model will develop its own rules of when enter and exit trades.  \n",
    "\n",
    "Lastly, its performance is gaged against the performance of the trading strategy developed in the EDA section."
   ]
  },
  {
   "cell_type": "markdown",
   "id": "0e746f35",
   "metadata": {},
   "source": [
    "## Import Libraries"
   ]
  },
  {
   "cell_type": "code",
   "execution_count": 183,
   "id": "025f5eb1",
   "metadata": {
    "ExecuteTime": {
     "end_time": "2021-12-22T05:45:06.097460Z",
     "start_time": "2021-12-22T05:45:06.091462Z"
    }
   },
   "outputs": [],
   "source": [
    "import pandas as pd\n",
    "import numpy as np\n",
    "\n",
    "from sklearn.ensemble import RandomForestClassifier\n",
    "#from sklearn.model_selection import GridSearchCV\n",
    "\n",
    "from sklearn.metrics import plot_confusion_matrix, classification_report, f1_score\n",
    "\n",
    "import warnings\n",
    "warnings.filterwarnings(\"ignore\")"
   ]
  },
  {
   "cell_type": "markdown",
   "id": "3240ed89",
   "metadata": {
    "ExecuteTime": {
     "end_time": "2021-12-21T16:21:25.113185Z",
     "start_time": "2021-12-21T16:21:25.079476Z"
    }
   },
   "source": [
    "## Import Data"
   ]
  },
  {
   "cell_type": "code",
   "execution_count": 184,
   "id": "d6b767d9",
   "metadata": {
    "ExecuteTime": {
     "end_time": "2021-12-22T05:45:06.129365Z",
     "start_time": "2021-12-22T05:45:06.098543Z"
    }
   },
   "outputs": [],
   "source": [
    "gld_data = pd.read_csv('./data/gld_data.csv', index_col=0)"
   ]
  },
  {
   "cell_type": "code",
   "execution_count": 185,
   "id": "6be749c0",
   "metadata": {
    "ExecuteTime": {
     "end_time": "2021-12-22T05:45:06.176103Z",
     "start_time": "2021-12-22T05:45:06.131364Z"
    }
   },
   "outputs": [
    {
     "data": {
      "text/html": [
       "<div>\n",
       "<style scoped>\n",
       "    .dataframe tbody tr th:only-of-type {\n",
       "        vertical-align: middle;\n",
       "    }\n",
       "\n",
       "    .dataframe tbody tr th {\n",
       "        vertical-align: top;\n",
       "    }\n",
       "\n",
       "    .dataframe thead th {\n",
       "        text-align: right;\n",
       "    }\n",
       "</style>\n",
       "<table border=\"1\" class=\"dataframe\">\n",
       "  <thead>\n",
       "    <tr style=\"text-align: right;\">\n",
       "      <th></th>\n",
       "      <th>Open</th>\n",
       "      <th>High</th>\n",
       "      <th>Low</th>\n",
       "      <th>Close</th>\n",
       "      <th>RSI</th>\n",
       "      <th>pSAR</th>\n",
       "      <th>TEMA</th>\n",
       "      <th>ADX</th>\n",
       "    </tr>\n",
       "    <tr>\n",
       "      <th>Date</th>\n",
       "      <th></th>\n",
       "      <th></th>\n",
       "      <th></th>\n",
       "      <th></th>\n",
       "      <th></th>\n",
       "      <th></th>\n",
       "      <th></th>\n",
       "      <th></th>\n",
       "    </tr>\n",
       "  </thead>\n",
       "  <tbody>\n",
       "    <tr>\n",
       "      <th>2011-02-10</th>\n",
       "      <td>132.110001</td>\n",
       "      <td>133.309998</td>\n",
       "      <td>132.000000</td>\n",
       "      <td>132.850006</td>\n",
       "      <td>46.092442</td>\n",
       "      <td>128.876541</td>\n",
       "      <td>131.462458</td>\n",
       "      <td>33.107729</td>\n",
       "    </tr>\n",
       "    <tr>\n",
       "      <th>2011-02-11</th>\n",
       "      <td>133.009995</td>\n",
       "      <td>133.440002</td>\n",
       "      <td>132.089996</td>\n",
       "      <td>132.320007</td>\n",
       "      <td>44.099798</td>\n",
       "      <td>129.153949</td>\n",
       "      <td>131.675929</td>\n",
       "      <td>31.074322</td>\n",
       "    </tr>\n",
       "    <tr>\n",
       "      <th>2011-02-14</th>\n",
       "      <td>132.949997</td>\n",
       "      <td>133.380005</td>\n",
       "      <td>132.699997</td>\n",
       "      <td>132.949997</td>\n",
       "      <td>47.031123</td>\n",
       "      <td>129.414712</td>\n",
       "      <td>131.874588</td>\n",
       "      <td>29.186158</td>\n",
       "    </tr>\n",
       "    <tr>\n",
       "      <th>2011-02-15</th>\n",
       "      <td>133.860001</td>\n",
       "      <td>134.169998</td>\n",
       "      <td>133.630005</td>\n",
       "      <td>133.970001</td>\n",
       "      <td>51.468512</td>\n",
       "      <td>129.659829</td>\n",
       "      <td>132.094962</td>\n",
       "      <td>27.407409</td>\n",
       "    </tr>\n",
       "    <tr>\n",
       "      <th>2011-02-16</th>\n",
       "      <td>134.229996</td>\n",
       "      <td>134.860001</td>\n",
       "      <td>133.449997</td>\n",
       "      <td>134.100006</td>\n",
       "      <td>52.020217</td>\n",
       "      <td>130.020643</td>\n",
       "      <td>132.338897</td>\n",
       "      <td>26.263413</td>\n",
       "    </tr>\n",
       "  </tbody>\n",
       "</table>\n",
       "</div>"
      ],
      "text/plain": [
       "                  Open        High         Low       Close        RSI  \\\n",
       "Date                                                                    \n",
       "2011-02-10  132.110001  133.309998  132.000000  132.850006  46.092442   \n",
       "2011-02-11  133.009995  133.440002  132.089996  132.320007  44.099798   \n",
       "2011-02-14  132.949997  133.380005  132.699997  132.949997  47.031123   \n",
       "2011-02-15  133.860001  134.169998  133.630005  133.970001  51.468512   \n",
       "2011-02-16  134.229996  134.860001  133.449997  134.100006  52.020217   \n",
       "\n",
       "                  pSAR        TEMA        ADX  \n",
       "Date                                           \n",
       "2011-02-10  128.876541  131.462458  33.107729  \n",
       "2011-02-11  129.153949  131.675929  31.074322  \n",
       "2011-02-14  129.414712  131.874588  29.186158  \n",
       "2011-02-15  129.659829  132.094962  27.407409  \n",
       "2011-02-16  130.020643  132.338897  26.263413  "
      ]
     },
     "execution_count": 185,
     "metadata": {},
     "output_type": "execute_result"
    }
   ],
   "source": [
    "gld_data.head()"
   ]
  },
  {
   "cell_type": "markdown",
   "id": "cf462430",
   "metadata": {},
   "source": [
    "- Restore the datatime index that was lost when the dataset was exported to CSV file."
   ]
  },
  {
   "cell_type": "code",
   "execution_count": 186,
   "id": "d448bd01",
   "metadata": {
    "ExecuteTime": {
     "end_time": "2021-12-22T05:45:06.191333Z",
     "start_time": "2021-12-22T05:45:06.178332Z"
    }
   },
   "outputs": [],
   "source": [
    "gld_data.index = pd.to_datetime(gld_data.index)"
   ]
  },
  {
   "cell_type": "code",
   "execution_count": 187,
   "id": "68c1c56f",
   "metadata": {
    "ExecuteTime": {
     "end_time": "2021-12-22T05:45:06.207658Z",
     "start_time": "2021-12-22T05:45:06.193332Z"
    }
   },
   "outputs": [
    {
     "name": "stdout",
     "output_type": "stream",
     "text": [
      "<class 'pandas.core.frame.DataFrame'>\n",
      "DatetimeIndex: 2734 entries, 2011-02-10 to 2021-12-20\n",
      "Data columns (total 8 columns):\n",
      " #   Column  Non-Null Count  Dtype  \n",
      "---  ------  --------------  -----  \n",
      " 0   Open    2734 non-null   float64\n",
      " 1   High    2734 non-null   float64\n",
      " 2   Low     2734 non-null   float64\n",
      " 3   Close   2734 non-null   float64\n",
      " 4   RSI     2734 non-null   float64\n",
      " 5   pSAR    2734 non-null   float64\n",
      " 6   TEMA    2734 non-null   float64\n",
      " 7   ADX     2734 non-null   float64\n",
      "dtypes: float64(8)\n",
      "memory usage: 192.2 KB\n"
     ]
    }
   ],
   "source": [
    "gld_data.info()"
   ]
  },
  {
   "cell_type": "markdown",
   "id": "34ea545e",
   "metadata": {},
   "source": [
    "## Define Predictor `X` and Target `y`  Variables"
   ]
  },
  {
   "cell_type": "markdown",
   "id": "af31bbe3",
   "metadata": {},
   "source": [
    "In the EDA section, a trading strategy was created using technical indicators (`RSI`, `pSAR`, `TEMA`, `ADX`) and daily returns (`Daily_Return`).  \n",
    "\n",
    "In this section, the technical indicators and daily returns will be used as predictors and the target variable will be the signal _(i.e., The `signal` column in the previously created trading strategy)_ that was generated in the trading strategy.\n",
    "\n",
    "For daily returns, the daily `Future_Return` will be calucated by using the `shift` method.  For example, for January 28, 2020, the return that was calculated for January 29 is used to generate the `Target` value for that day.\n",
    "\n",
    "For the `Target`, `0` will denote negative returns, and `1` will denote positive returns.  Remember, in the previous strategy, `0` denotes an EXIT from a BUY position, and `1` denotes to open a BUY position."
   ]
  },
  {
   "cell_type": "markdown",
   "id": "9d5b2565",
   "metadata": {},
   "source": [
    "- Create `Future_Return` column"
   ]
  },
  {
   "cell_type": "code",
   "execution_count": 188,
   "id": "f8226246",
   "metadata": {
    "ExecuteTime": {
     "end_time": "2021-12-22T05:45:06.223170Z",
     "start_time": "2021-12-22T05:45:06.207658Z"
    }
   },
   "outputs": [],
   "source": [
    "gld_data['Future_Return'] = gld_data['Close'].pct_change(1).shift(-1)"
   ]
  },
  {
   "cell_type": "markdown",
   "id": "688aaabb",
   "metadata": {},
   "source": [
    "- Create `Target` column"
   ]
  },
  {
   "cell_type": "code",
   "execution_count": 189,
   "id": "08680ae2",
   "metadata": {
    "ExecuteTime": {
     "end_time": "2021-12-22T05:45:06.238809Z",
     "start_time": "2021-12-22T05:45:06.223170Z"
    }
   },
   "outputs": [],
   "source": [
    "gld_data['Target'] = np.where(gld_data['Future_Return'] > 0, 1, 0)"
   ]
  },
  {
   "cell_type": "code",
   "execution_count": 190,
   "id": "bd2881fb",
   "metadata": {
    "ExecuteTime": {
     "end_time": "2021-12-22T05:45:06.269892Z",
     "start_time": "2021-12-22T05:45:06.238809Z"
    }
   },
   "outputs": [
    {
     "data": {
      "text/html": [
       "<div>\n",
       "<style scoped>\n",
       "    .dataframe tbody tr th:only-of-type {\n",
       "        vertical-align: middle;\n",
       "    }\n",
       "\n",
       "    .dataframe tbody tr th {\n",
       "        vertical-align: top;\n",
       "    }\n",
       "\n",
       "    .dataframe thead th {\n",
       "        text-align: right;\n",
       "    }\n",
       "</style>\n",
       "<table border=\"1\" class=\"dataframe\">\n",
       "  <thead>\n",
       "    <tr style=\"text-align: right;\">\n",
       "      <th></th>\n",
       "      <th>Open</th>\n",
       "      <th>High</th>\n",
       "      <th>Low</th>\n",
       "      <th>Close</th>\n",
       "      <th>RSI</th>\n",
       "      <th>pSAR</th>\n",
       "      <th>TEMA</th>\n",
       "      <th>ADX</th>\n",
       "      <th>Future_Return</th>\n",
       "      <th>Target</th>\n",
       "    </tr>\n",
       "    <tr>\n",
       "      <th>Date</th>\n",
       "      <th></th>\n",
       "      <th></th>\n",
       "      <th></th>\n",
       "      <th></th>\n",
       "      <th></th>\n",
       "      <th></th>\n",
       "      <th></th>\n",
       "      <th></th>\n",
       "      <th></th>\n",
       "      <th></th>\n",
       "    </tr>\n",
       "  </thead>\n",
       "  <tbody>\n",
       "    <tr>\n",
       "      <th>2011-02-10</th>\n",
       "      <td>132.110001</td>\n",
       "      <td>133.309998</td>\n",
       "      <td>132.000000</td>\n",
       "      <td>132.850006</td>\n",
       "      <td>46.092442</td>\n",
       "      <td>128.876541</td>\n",
       "      <td>131.462458</td>\n",
       "      <td>33.107729</td>\n",
       "      <td>-0.003989</td>\n",
       "      <td>0</td>\n",
       "    </tr>\n",
       "    <tr>\n",
       "      <th>2011-02-11</th>\n",
       "      <td>133.009995</td>\n",
       "      <td>133.440002</td>\n",
       "      <td>132.089996</td>\n",
       "      <td>132.320007</td>\n",
       "      <td>44.099798</td>\n",
       "      <td>129.153949</td>\n",
       "      <td>131.675929</td>\n",
       "      <td>31.074322</td>\n",
       "      <td>0.004761</td>\n",
       "      <td>1</td>\n",
       "    </tr>\n",
       "    <tr>\n",
       "      <th>2011-02-14</th>\n",
       "      <td>132.949997</td>\n",
       "      <td>133.380005</td>\n",
       "      <td>132.699997</td>\n",
       "      <td>132.949997</td>\n",
       "      <td>47.031123</td>\n",
       "      <td>129.414712</td>\n",
       "      <td>131.874588</td>\n",
       "      <td>29.186158</td>\n",
       "      <td>0.007672</td>\n",
       "      <td>1</td>\n",
       "    </tr>\n",
       "    <tr>\n",
       "      <th>2011-02-15</th>\n",
       "      <td>133.860001</td>\n",
       "      <td>134.169998</td>\n",
       "      <td>133.630005</td>\n",
       "      <td>133.970001</td>\n",
       "      <td>51.468512</td>\n",
       "      <td>129.659829</td>\n",
       "      <td>132.094962</td>\n",
       "      <td>27.407409</td>\n",
       "      <td>0.000970</td>\n",
       "      <td>1</td>\n",
       "    </tr>\n",
       "    <tr>\n",
       "      <th>2011-02-16</th>\n",
       "      <td>134.229996</td>\n",
       "      <td>134.860001</td>\n",
       "      <td>133.449997</td>\n",
       "      <td>134.100006</td>\n",
       "      <td>52.020217</td>\n",
       "      <td>130.020643</td>\n",
       "      <td>132.338897</td>\n",
       "      <td>26.263413</td>\n",
       "      <td>0.007010</td>\n",
       "      <td>1</td>\n",
       "    </tr>\n",
       "    <tr>\n",
       "      <th>...</th>\n",
       "      <td>...</td>\n",
       "      <td>...</td>\n",
       "      <td>...</td>\n",
       "      <td>...</td>\n",
       "      <td>...</td>\n",
       "      <td>...</td>\n",
       "      <td>...</td>\n",
       "      <td>...</td>\n",
       "      <td>...</td>\n",
       "      <td>...</td>\n",
       "    </tr>\n",
       "    <tr>\n",
       "      <th>2021-12-14</th>\n",
       "      <td>165.339996</td>\n",
       "      <td>166.139999</td>\n",
       "      <td>165.160004</td>\n",
       "      <td>165.440002</td>\n",
       "      <td>40.924239</td>\n",
       "      <td>167.686717</td>\n",
       "      <td>166.638833</td>\n",
       "      <td>11.175713</td>\n",
       "      <td>0.004292</td>\n",
       "      <td>1</td>\n",
       "    </tr>\n",
       "    <tr>\n",
       "      <th>2021-12-15</th>\n",
       "      <td>165.270004</td>\n",
       "      <td>166.399994</td>\n",
       "      <td>163.800003</td>\n",
       "      <td>166.149994</td>\n",
       "      <td>44.258064</td>\n",
       "      <td>167.381046</td>\n",
       "      <td>166.549802</td>\n",
       "      <td>11.945480</td>\n",
       "      <td>0.012098</td>\n",
       "      <td>1</td>\n",
       "    </tr>\n",
       "    <tr>\n",
       "      <th>2021-12-16</th>\n",
       "      <td>167.009995</td>\n",
       "      <td>168.179993</td>\n",
       "      <td>166.940002</td>\n",
       "      <td>168.160004</td>\n",
       "      <td>52.440786</td>\n",
       "      <td>163.800003</td>\n",
       "      <td>166.544353</td>\n",
       "      <td>11.471833</td>\n",
       "      <td>-0.002141</td>\n",
       "      <td>0</td>\n",
       "    </tr>\n",
       "    <tr>\n",
       "      <th>2021-12-17</th>\n",
       "      <td>168.729996</td>\n",
       "      <td>169.130005</td>\n",
       "      <td>167.779999</td>\n",
       "      <td>167.800003</td>\n",
       "      <td>50.996847</td>\n",
       "      <td>163.800003</td>\n",
       "      <td>166.611587</td>\n",
       "      <td>10.819805</td>\n",
       "      <td>-0.004231</td>\n",
       "      <td>0</td>\n",
       "    </tr>\n",
       "    <tr>\n",
       "      <th>2021-12-20</th>\n",
       "      <td>167.880005</td>\n",
       "      <td>168.000000</td>\n",
       "      <td>167.059998</td>\n",
       "      <td>167.089996</td>\n",
       "      <td>48.179221</td>\n",
       "      <td>164.013203</td>\n",
       "      <td>166.700645</td>\n",
       "      <td>10.289118</td>\n",
       "      <td>NaN</td>\n",
       "      <td>0</td>\n",
       "    </tr>\n",
       "  </tbody>\n",
       "</table>\n",
       "<p>2734 rows × 10 columns</p>\n",
       "</div>"
      ],
      "text/plain": [
       "                  Open        High         Low       Close        RSI  \\\n",
       "Date                                                                    \n",
       "2011-02-10  132.110001  133.309998  132.000000  132.850006  46.092442   \n",
       "2011-02-11  133.009995  133.440002  132.089996  132.320007  44.099798   \n",
       "2011-02-14  132.949997  133.380005  132.699997  132.949997  47.031123   \n",
       "2011-02-15  133.860001  134.169998  133.630005  133.970001  51.468512   \n",
       "2011-02-16  134.229996  134.860001  133.449997  134.100006  52.020217   \n",
       "...                ...         ...         ...         ...        ...   \n",
       "2021-12-14  165.339996  166.139999  165.160004  165.440002  40.924239   \n",
       "2021-12-15  165.270004  166.399994  163.800003  166.149994  44.258064   \n",
       "2021-12-16  167.009995  168.179993  166.940002  168.160004  52.440786   \n",
       "2021-12-17  168.729996  169.130005  167.779999  167.800003  50.996847   \n",
       "2021-12-20  167.880005  168.000000  167.059998  167.089996  48.179221   \n",
       "\n",
       "                  pSAR        TEMA        ADX  Future_Return  Target  \n",
       "Date                                                                  \n",
       "2011-02-10  128.876541  131.462458  33.107729      -0.003989       0  \n",
       "2011-02-11  129.153949  131.675929  31.074322       0.004761       1  \n",
       "2011-02-14  129.414712  131.874588  29.186158       0.007672       1  \n",
       "2011-02-15  129.659829  132.094962  27.407409       0.000970       1  \n",
       "2011-02-16  130.020643  132.338897  26.263413       0.007010       1  \n",
       "...                ...         ...        ...            ...     ...  \n",
       "2021-12-14  167.686717  166.638833  11.175713       0.004292       1  \n",
       "2021-12-15  167.381046  166.549802  11.945480       0.012098       1  \n",
       "2021-12-16  163.800003  166.544353  11.471833      -0.002141       0  \n",
       "2021-12-17  163.800003  166.611587  10.819805      -0.004231       0  \n",
       "2021-12-20  164.013203  166.700645  10.289118            NaN       0  \n",
       "\n",
       "[2734 rows x 10 columns]"
      ]
     },
     "execution_count": 190,
     "metadata": {},
     "output_type": "execute_result"
    }
   ],
   "source": [
    "gld_data"
   ]
  },
  {
   "cell_type": "markdown",
   "id": "1215f8e8",
   "metadata": {},
   "source": [
    "- Drop `NaNs` and create `X` and `y` variables"
   ]
  },
  {
   "cell_type": "code",
   "execution_count": 191,
   "id": "3c0d8a12",
   "metadata": {
    "ExecuteTime": {
     "end_time": "2021-12-22T05:45:06.285894Z",
     "start_time": "2021-12-22T05:45:06.271894Z"
    }
   },
   "outputs": [],
   "source": [
    "gld_data = gld_data.dropna()"
   ]
  },
  {
   "cell_type": "code",
   "execution_count": 192,
   "id": "6469ac91",
   "metadata": {
    "ExecuteTime": {
     "end_time": "2021-12-22T05:45:06.301892Z",
     "start_time": "2021-12-22T05:45:06.287895Z"
    },
    "scrolled": true
   },
   "outputs": [
    {
     "data": {
      "text/plain": [
       "Open             0\n",
       "High             0\n",
       "Low              0\n",
       "Close            0\n",
       "RSI              0\n",
       "pSAR             0\n",
       "TEMA             0\n",
       "ADX              0\n",
       "Future_Return    0\n",
       "Target           0\n",
       "dtype: int64"
      ]
     },
     "execution_count": 192,
     "metadata": {},
     "output_type": "execute_result"
    }
   ],
   "source": [
    "gld_data.isnull().sum()"
   ]
  },
  {
   "cell_type": "code",
   "execution_count": 193,
   "id": "0f19c705",
   "metadata": {
    "ExecuteTime": {
     "end_time": "2021-12-22T05:45:06.321630Z",
     "start_time": "2021-12-22T05:45:06.302923Z"
    }
   },
   "outputs": [],
   "source": [
    "X = gld_data[['RSI', 'pSAR', 'TEMA', 'ADX' ]]"
   ]
  },
  {
   "cell_type": "code",
   "execution_count": 194,
   "id": "16ec7605",
   "metadata": {
    "ExecuteTime": {
     "end_time": "2021-12-22T05:45:06.348104Z",
     "start_time": "2021-12-22T05:45:06.323632Z"
    }
   },
   "outputs": [
    {
     "data": {
      "text/html": [
       "<div>\n",
       "<style scoped>\n",
       "    .dataframe tbody tr th:only-of-type {\n",
       "        vertical-align: middle;\n",
       "    }\n",
       "\n",
       "    .dataframe tbody tr th {\n",
       "        vertical-align: top;\n",
       "    }\n",
       "\n",
       "    .dataframe thead th {\n",
       "        text-align: right;\n",
       "    }\n",
       "</style>\n",
       "<table border=\"1\" class=\"dataframe\">\n",
       "  <thead>\n",
       "    <tr style=\"text-align: right;\">\n",
       "      <th></th>\n",
       "      <th>RSI</th>\n",
       "      <th>pSAR</th>\n",
       "      <th>TEMA</th>\n",
       "      <th>ADX</th>\n",
       "    </tr>\n",
       "    <tr>\n",
       "      <th>Date</th>\n",
       "      <th></th>\n",
       "      <th></th>\n",
       "      <th></th>\n",
       "      <th></th>\n",
       "    </tr>\n",
       "  </thead>\n",
       "  <tbody>\n",
       "    <tr>\n",
       "      <th>2011-02-10</th>\n",
       "      <td>46.092442</td>\n",
       "      <td>128.876541</td>\n",
       "      <td>131.462458</td>\n",
       "      <td>33.107729</td>\n",
       "    </tr>\n",
       "    <tr>\n",
       "      <th>2011-02-11</th>\n",
       "      <td>44.099798</td>\n",
       "      <td>129.153949</td>\n",
       "      <td>131.675929</td>\n",
       "      <td>31.074322</td>\n",
       "    </tr>\n",
       "    <tr>\n",
       "      <th>2011-02-14</th>\n",
       "      <td>47.031123</td>\n",
       "      <td>129.414712</td>\n",
       "      <td>131.874588</td>\n",
       "      <td>29.186158</td>\n",
       "    </tr>\n",
       "    <tr>\n",
       "      <th>2011-02-15</th>\n",
       "      <td>51.468512</td>\n",
       "      <td>129.659829</td>\n",
       "      <td>132.094962</td>\n",
       "      <td>27.407409</td>\n",
       "    </tr>\n",
       "    <tr>\n",
       "      <th>2011-02-16</th>\n",
       "      <td>52.020217</td>\n",
       "      <td>130.020643</td>\n",
       "      <td>132.338897</td>\n",
       "      <td>26.263413</td>\n",
       "    </tr>\n",
       "    <tr>\n",
       "      <th>...</th>\n",
       "      <td>...</td>\n",
       "      <td>...</td>\n",
       "      <td>...</td>\n",
       "      <td>...</td>\n",
       "    </tr>\n",
       "    <tr>\n",
       "      <th>2021-12-13</th>\n",
       "      <td>46.612048</td>\n",
       "      <td>168.026352</td>\n",
       "      <td>166.730779</td>\n",
       "      <td>11.104600</td>\n",
       "    </tr>\n",
       "    <tr>\n",
       "      <th>2021-12-14</th>\n",
       "      <td>40.924239</td>\n",
       "      <td>167.686717</td>\n",
       "      <td>166.638833</td>\n",
       "      <td>11.175713</td>\n",
       "    </tr>\n",
       "    <tr>\n",
       "      <th>2021-12-15</th>\n",
       "      <td>44.258064</td>\n",
       "      <td>167.381046</td>\n",
       "      <td>166.549802</td>\n",
       "      <td>11.945480</td>\n",
       "    </tr>\n",
       "    <tr>\n",
       "      <th>2021-12-16</th>\n",
       "      <td>52.440786</td>\n",
       "      <td>163.800003</td>\n",
       "      <td>166.544353</td>\n",
       "      <td>11.471833</td>\n",
       "    </tr>\n",
       "    <tr>\n",
       "      <th>2021-12-17</th>\n",
       "      <td>50.996847</td>\n",
       "      <td>163.800003</td>\n",
       "      <td>166.611587</td>\n",
       "      <td>10.819805</td>\n",
       "    </tr>\n",
       "  </tbody>\n",
       "</table>\n",
       "<p>2733 rows × 4 columns</p>\n",
       "</div>"
      ],
      "text/plain": [
       "                  RSI        pSAR        TEMA        ADX\n",
       "Date                                                    \n",
       "2011-02-10  46.092442  128.876541  131.462458  33.107729\n",
       "2011-02-11  44.099798  129.153949  131.675929  31.074322\n",
       "2011-02-14  47.031123  129.414712  131.874588  29.186158\n",
       "2011-02-15  51.468512  129.659829  132.094962  27.407409\n",
       "2011-02-16  52.020217  130.020643  132.338897  26.263413\n",
       "...               ...         ...         ...        ...\n",
       "2021-12-13  46.612048  168.026352  166.730779  11.104600\n",
       "2021-12-14  40.924239  167.686717  166.638833  11.175713\n",
       "2021-12-15  44.258064  167.381046  166.549802  11.945480\n",
       "2021-12-16  52.440786  163.800003  166.544353  11.471833\n",
       "2021-12-17  50.996847  163.800003  166.611587  10.819805\n",
       "\n",
       "[2733 rows x 4 columns]"
      ]
     },
     "execution_count": 194,
     "metadata": {},
     "output_type": "execute_result"
    }
   ],
   "source": [
    "X"
   ]
  },
  {
   "cell_type": "code",
   "execution_count": 195,
   "id": "34fd4a82",
   "metadata": {
    "ExecuteTime": {
     "end_time": "2021-12-22T05:45:06.364102Z",
     "start_time": "2021-12-22T05:45:06.350105Z"
    }
   },
   "outputs": [],
   "source": [
    "y = gld_data['Target']"
   ]
  },
  {
   "cell_type": "code",
   "execution_count": 196,
   "id": "361674ec",
   "metadata": {
    "ExecuteTime": {
     "end_time": "2021-12-22T05:45:06.380105Z",
     "start_time": "2021-12-22T05:45:06.366104Z"
    }
   },
   "outputs": [
    {
     "data": {
      "text/plain": [
       "Date\n",
       "2011-02-10    0\n",
       "2011-02-11    1\n",
       "2011-02-14    1\n",
       "2011-02-15    1\n",
       "2011-02-16    1\n",
       "             ..\n",
       "2021-12-13    0\n",
       "2021-12-14    1\n",
       "2021-12-15    1\n",
       "2021-12-16    0\n",
       "2021-12-17    0\n",
       "Name: Target, Length: 2733, dtype: int32"
      ]
     },
     "execution_count": 196,
     "metadata": {},
     "output_type": "execute_result"
    }
   ],
   "source": [
    "y"
   ]
  },
  {
   "cell_type": "markdown",
   "id": "514ee9fb",
   "metadata": {},
   "source": [
    "## Split dataset into training and test sets"
   ]
  },
  {
   "cell_type": "markdown",
   "id": "07e9ddd1",
   "metadata": {},
   "source": [
    "- Determine split"
   ]
  },
  {
   "cell_type": "code",
   "execution_count": 197,
   "id": "95662c80",
   "metadata": {
    "ExecuteTime": {
     "end_time": "2021-12-22T05:45:06.396102Z",
     "start_time": "2021-12-22T05:45:06.382105Z"
    }
   },
   "outputs": [],
   "source": [
    "split_pct = 0.75\n",
    "split = int(split_pct * len(X))"
   ]
  },
  {
   "cell_type": "markdown",
   "id": "833fe6f2",
   "metadata": {},
   "source": [
    "- Get training set"
   ]
  },
  {
   "cell_type": "code",
   "execution_count": 198,
   "id": "dfa30e91",
   "metadata": {
    "ExecuteTime": {
     "end_time": "2021-12-22T05:45:06.411102Z",
     "start_time": "2021-12-22T05:45:06.398104Z"
    }
   },
   "outputs": [],
   "source": [
    "X_train = X[:split]\n",
    "y_train = y[:split]"
   ]
  },
  {
   "cell_type": "markdown",
   "id": "c1a1cb12",
   "metadata": {},
   "source": [
    "- Get test set"
   ]
  },
  {
   "cell_type": "code",
   "execution_count": 199,
   "id": "3c1b36ca",
   "metadata": {
    "ExecuteTime": {
     "end_time": "2021-12-22T05:45:06.426966Z",
     "start_time": "2021-12-22T05:45:06.413227Z"
    }
   },
   "outputs": [],
   "source": [
    "X_test = X[split:]\n",
    "y_test = y[split:]"
   ]
  },
  {
   "cell_type": "markdown",
   "id": "bc06773f",
   "metadata": {},
   "source": [
    "- Check split"
   ]
  },
  {
   "cell_type": "code",
   "execution_count": 200,
   "id": "292fbca0",
   "metadata": {
    "ExecuteTime": {
     "end_time": "2021-12-22T05:45:06.441990Z",
     "start_time": "2021-12-22T05:45:06.428973Z"
    }
   },
   "outputs": [
    {
     "name": "stdout",
     "output_type": "stream",
     "text": [
      "Training shape:  (2049, 4) (2049,)\n",
      "Test shape:  (684, 4) (684,)\n"
     ]
    }
   ],
   "source": [
    "print('Training shape: ', X_train.shape, y_train.shape)\n",
    "print('Test shape: ', X_test.shape, y_test.shape)"
   ]
  },
  {
   "cell_type": "markdown",
   "id": "25cf19d8",
   "metadata": {
    "ExecuteTime": {
     "end_time": "2021-12-21T21:31:31.425709Z",
     "start_time": "2021-12-21T21:31:31.415708Z"
    }
   },
   "source": [
    "## Null Model"
   ]
  },
  {
   "cell_type": "code",
   "execution_count": 201,
   "id": "550bc1f5",
   "metadata": {
    "ExecuteTime": {
     "end_time": "2021-12-22T05:45:06.457556Z",
     "start_time": "2021-12-22T05:45:06.443995Z"
    }
   },
   "outputs": [
    {
     "data": {
      "text/plain": [
       "1    0.520673\n",
       "0    0.479327\n",
       "Name: Target, dtype: float64"
      ]
     },
     "execution_count": 201,
     "metadata": {},
     "output_type": "execute_result"
    }
   ],
   "source": [
    "gld_data['Target'].value_counts(normalize=True)"
   ]
  },
  {
   "cell_type": "markdown",
   "id": "a569eb2d",
   "metadata": {},
   "source": [
    "In this dataset 47.9% of the signals are not BUY signals. This means that if we assign a signal as never BUY, we would have a baseline accuracy of 47.9%."
   ]
  },
  {
   "cell_type": "markdown",
   "id": "a69d0d5b",
   "metadata": {},
   "source": [
    "## Model: RandomForestClassifier"
   ]
  },
  {
   "cell_type": "markdown",
   "id": "a929cc10",
   "metadata": {},
   "source": [
    "- Instantiate and fit a RandomForestClassifer object"
   ]
  },
  {
   "cell_type": "code",
   "execution_count": 202,
   "id": "f0793692",
   "metadata": {
    "ExecuteTime": {
     "end_time": "2021-12-22T05:45:06.765340Z",
     "start_time": "2021-12-22T05:45:06.459460Z"
    }
   },
   "outputs": [
    {
     "data": {
      "text/plain": [
       "RandomForestClassifier(max_depth=4)"
      ]
     },
     "execution_count": 202,
     "metadata": {},
     "output_type": "execute_result"
    }
   ],
   "source": [
    "rf = RandomForestClassifier(max_depth=4)\n",
    "rf.fit(X_train,y_train)"
   ]
  },
  {
   "cell_type": "markdown",
   "id": "9e48300d",
   "metadata": {
    "ExecuteTime": {
     "end_time": "2021-12-22T02:08:08.910686Z",
     "start_time": "2021-12-22T02:08:08.906609Z"
    }
   },
   "source": [
    "- Make predictions"
   ]
  },
  {
   "cell_type": "code",
   "execution_count": 203,
   "id": "6389f76d",
   "metadata": {
    "ExecuteTime": {
     "end_time": "2021-12-22T05:45:06.801036Z",
     "start_time": "2021-12-22T05:45:06.767343Z"
    }
   },
   "outputs": [],
   "source": [
    "y_pred = rf.predict(X_test)"
   ]
  },
  {
   "cell_type": "markdown",
   "id": "b373d446",
   "metadata": {},
   "source": [
    "- Evaluate model"
   ]
  },
  {
   "cell_type": "code",
   "execution_count": 204,
   "id": "d7c40fab",
   "metadata": {
    "ExecuteTime": {
     "end_time": "2021-12-22T05:45:06.895905Z",
     "start_time": "2021-12-22T05:45:06.802229Z"
    }
   },
   "outputs": [
    {
     "name": "stdout",
     "output_type": "stream",
     "text": [
      "Random Forest Classifier metrics\n",
      "\n",
      "           training           testing\n",
      "Accuracy:  0.6388482186432406 0.5219298245614035\n",
      "f1:        0.6898575020955574 0.5374823196605375\n"
     ]
    }
   ],
   "source": [
    "print('Random Forest Classifier metrics\\n')\n",
    "print('           training           testing')\n",
    "print('Accuracy: ', rf.score(X_train,y_train),rf.score(X_test,y_test))\n",
    "print('f1:       ',f1_score(y_train,rf.predict(X_train)),f1_score(y_test,y_pred))"
   ]
  },
  {
   "cell_type": "markdown",
   "id": "4878ce3e",
   "metadata": {},
   "source": [
    "Accuracy and f1 scores aren't stellar.  However, anything above 0.5 is considered to be good.  The difference in training and testing scores there is more overfitting and more bias in this model versus the DecisionTree model. "
   ]
  },
  {
   "cell_type": "markdown",
   "id": "eee40bb9",
   "metadata": {},
   "source": [
    "- Plot confusion matrix"
   ]
  },
  {
   "cell_type": "code",
   "execution_count": 205,
   "id": "b1375277",
   "metadata": {
    "ExecuteTime": {
     "end_time": "2021-12-22T05:45:07.129084Z",
     "start_time": "2021-12-22T05:45:06.899909Z"
    },
    "scrolled": true
   },
   "outputs": [
    {
     "data": {
      "image/png": "[encoded data removed]",
      "text/plain": [
       "<Figure size 432x288 with 2 Axes>"
      ]
     },
     "metadata": {
      "needs_background": "light"
     },
     "output_type": "display_data"
    }
   ],
   "source": [
    "plot_confusion_matrix(rf,X_test,y_test);"
   ]
  },
  {
   "cell_type": "markdown",
   "id": "3e2a3420",
   "metadata": {},
   "source": [
    "For this model, there are slightly more Type II errors (184) than Type I errors (143). \n",
    "\n",
    "Here, the Type II errors represent erroneously accepting the null hypothesis, when in fact it should have been rejected.  In other words, the model should have acted on the signal and bought GLD.  This is the less severe error in this situation.\n",
    "\n",
    "The Type I errors represent the rejection of the null hypothesis _(i.e., the signal is not a BUY signal)_, and the execution of a BUY order.   \n",
    "\n",
    "This is the most severe error in this situation.  "
   ]
  },
  {
   "cell_type": "markdown",
   "id": "9007f0c8",
   "metadata": {},
   "source": [
    "### Strategy Returns"
   ]
  },
  {
   "cell_type": "markdown",
   "id": "9243fa14",
   "metadata": {},
   "source": [
    "In the EDA section, the strategy returns were determined by muliplying the `signal` (`0` or `1`) by the `Daily_Return`.\n",
    "\n",
    "In this section, we will use the `Close` prices, `Daily_Returns`, and the `y_pred` values _(in place of `signal`)_ to calculate strategy returns."
   ]
  },
  {
   "cell_type": "markdown",
   "id": "a17cdccf",
   "metadata": {
    "ExecuteTime": {
     "end_time": "2021-12-22T03:02:53.410574Z",
     "start_time": "2021-12-22T03:02:53.395580Z"
    }
   },
   "source": [
    "- Make copy of `gld_data` dataframe"
   ]
  },
  {
   "cell_type": "code",
   "execution_count": 207,
   "id": "32b92626",
   "metadata": {
    "ExecuteTime": {
     "end_time": "2021-12-22T05:45:07.164744Z",
     "start_time": "2021-12-22T05:45:07.150745Z"
    }
   },
   "outputs": [],
   "source": [
    "strategy_data = gld_data.copy()"
   ]
  },
  {
   "cell_type": "code",
   "execution_count": 208,
   "id": "3b1653ad",
   "metadata": {
    "ExecuteTime": {
     "end_time": "2021-12-22T05:45:07.185775Z",
     "start_time": "2021-12-22T05:45:07.165801Z"
    }
   },
   "outputs": [
    {
     "data": {
      "text/html": [
       "<div>\n",
       "<style scoped>\n",
       "    .dataframe tbody tr th:only-of-type {\n",
       "        vertical-align: middle;\n",
       "    }\n",
       "\n",
       "    .dataframe tbody tr th {\n",
       "        vertical-align: top;\n",
       "    }\n",
       "\n",
       "    .dataframe thead th {\n",
       "        text-align: right;\n",
       "    }\n",
       "</style>\n",
       "<table border=\"1\" class=\"dataframe\">\n",
       "  <thead>\n",
       "    <tr style=\"text-align: right;\">\n",
       "      <th></th>\n",
       "      <th>Open</th>\n",
       "      <th>High</th>\n",
       "      <th>Low</th>\n",
       "      <th>Close</th>\n",
       "      <th>RSI</th>\n",
       "      <th>pSAR</th>\n",
       "      <th>TEMA</th>\n",
       "      <th>ADX</th>\n",
       "      <th>Future_Return</th>\n",
       "      <th>Target</th>\n",
       "    </tr>\n",
       "    <tr>\n",
       "      <th>Date</th>\n",
       "      <th></th>\n",
       "      <th></th>\n",
       "      <th></th>\n",
       "      <th></th>\n",
       "      <th></th>\n",
       "      <th></th>\n",
       "      <th></th>\n",
       "      <th></th>\n",
       "      <th></th>\n",
       "      <th></th>\n",
       "    </tr>\n",
       "  </thead>\n",
       "  <tbody>\n",
       "    <tr>\n",
       "      <th>2011-02-10</th>\n",
       "      <td>132.110001</td>\n",
       "      <td>133.309998</td>\n",
       "      <td>132.000000</td>\n",
       "      <td>132.850006</td>\n",
       "      <td>46.092442</td>\n",
       "      <td>128.876541</td>\n",
       "      <td>131.462458</td>\n",
       "      <td>33.107729</td>\n",
       "      <td>-0.003989</td>\n",
       "      <td>0</td>\n",
       "    </tr>\n",
       "    <tr>\n",
       "      <th>2011-02-11</th>\n",
       "      <td>133.009995</td>\n",
       "      <td>133.440002</td>\n",
       "      <td>132.089996</td>\n",
       "      <td>132.320007</td>\n",
       "      <td>44.099798</td>\n",
       "      <td>129.153949</td>\n",
       "      <td>131.675929</td>\n",
       "      <td>31.074322</td>\n",
       "      <td>0.004761</td>\n",
       "      <td>1</td>\n",
       "    </tr>\n",
       "    <tr>\n",
       "      <th>2011-02-14</th>\n",
       "      <td>132.949997</td>\n",
       "      <td>133.380005</td>\n",
       "      <td>132.699997</td>\n",
       "      <td>132.949997</td>\n",
       "      <td>47.031123</td>\n",
       "      <td>129.414712</td>\n",
       "      <td>131.874588</td>\n",
       "      <td>29.186158</td>\n",
       "      <td>0.007672</td>\n",
       "      <td>1</td>\n",
       "    </tr>\n",
       "    <tr>\n",
       "      <th>2011-02-15</th>\n",
       "      <td>133.860001</td>\n",
       "      <td>134.169998</td>\n",
       "      <td>133.630005</td>\n",
       "      <td>133.970001</td>\n",
       "      <td>51.468512</td>\n",
       "      <td>129.659829</td>\n",
       "      <td>132.094962</td>\n",
       "      <td>27.407409</td>\n",
       "      <td>0.000970</td>\n",
       "      <td>1</td>\n",
       "    </tr>\n",
       "    <tr>\n",
       "      <th>2011-02-16</th>\n",
       "      <td>134.229996</td>\n",
       "      <td>134.860001</td>\n",
       "      <td>133.449997</td>\n",
       "      <td>134.100006</td>\n",
       "      <td>52.020217</td>\n",
       "      <td>130.020643</td>\n",
       "      <td>132.338897</td>\n",
       "      <td>26.263413</td>\n",
       "      <td>0.007010</td>\n",
       "      <td>1</td>\n",
       "    </tr>\n",
       "  </tbody>\n",
       "</table>\n",
       "</div>"
      ],
      "text/plain": [
       "                  Open        High         Low       Close        RSI  \\\n",
       "Date                                                                    \n",
       "2011-02-10  132.110001  133.309998  132.000000  132.850006  46.092442   \n",
       "2011-02-11  133.009995  133.440002  132.089996  132.320007  44.099798   \n",
       "2011-02-14  132.949997  133.380005  132.699997  132.949997  47.031123   \n",
       "2011-02-15  133.860001  134.169998  133.630005  133.970001  51.468512   \n",
       "2011-02-16  134.229996  134.860001  133.449997  134.100006  52.020217   \n",
       "\n",
       "                  pSAR        TEMA        ADX  Future_Return  Target  \n",
       "Date                                                                  \n",
       "2011-02-10  128.876541  131.462458  33.107729      -0.003989       0  \n",
       "2011-02-11  129.153949  131.675929  31.074322       0.004761       1  \n",
       "2011-02-14  129.414712  131.874588  29.186158       0.007672       1  \n",
       "2011-02-15  129.659829  132.094962  27.407409       0.000970       1  \n",
       "2011-02-16  130.020643  132.338897  26.263413       0.007010       1  "
      ]
     },
     "execution_count": 208,
     "metadata": {},
     "output_type": "execute_result"
    }
   ],
   "source": [
    "strategy_data.head()"
   ]
  },
  {
   "cell_type": "markdown",
   "id": "d1d09691",
   "metadata": {},
   "source": [
    "- Calculate `Daily_Return`\n",
    "\n",
    "> The `Daily_Return` is the percentage change in the closing price from the previous day to the present day."
   ]
  },
  {
   "cell_type": "code",
   "execution_count": 209,
   "id": "61033e6d",
   "metadata": {
    "ExecuteTime": {
     "end_time": "2021-12-22T05:45:07.201900Z",
     "start_time": "2021-12-22T05:45:07.187775Z"
    }
   },
   "outputs": [],
   "source": [
    "strategy_data['Daily_Return'] = strategy_data['Close'].pct_change()"
   ]
  },
  {
   "cell_type": "code",
   "execution_count": 210,
   "id": "98497d93",
   "metadata": {
    "ExecuteTime": {
     "end_time": "2021-12-22T05:45:07.233900Z",
     "start_time": "2021-12-22T05:45:07.203903Z"
    }
   },
   "outputs": [
    {
     "data": {
      "text/html": [
       "<div>\n",
       "<style scoped>\n",
       "    .dataframe tbody tr th:only-of-type {\n",
       "        vertical-align: middle;\n",
       "    }\n",
       "\n",
       "    .dataframe tbody tr th {\n",
       "        vertical-align: top;\n",
       "    }\n",
       "\n",
       "    .dataframe thead th {\n",
       "        text-align: right;\n",
       "    }\n",
       "</style>\n",
       "<table border=\"1\" class=\"dataframe\">\n",
       "  <thead>\n",
       "    <tr style=\"text-align: right;\">\n",
       "      <th></th>\n",
       "      <th>Open</th>\n",
       "      <th>High</th>\n",
       "      <th>Low</th>\n",
       "      <th>Close</th>\n",
       "      <th>RSI</th>\n",
       "      <th>pSAR</th>\n",
       "      <th>TEMA</th>\n",
       "      <th>ADX</th>\n",
       "      <th>Future_Return</th>\n",
       "      <th>Target</th>\n",
       "      <th>Daily_Return</th>\n",
       "    </tr>\n",
       "    <tr>\n",
       "      <th>Date</th>\n",
       "      <th></th>\n",
       "      <th></th>\n",
       "      <th></th>\n",
       "      <th></th>\n",
       "      <th></th>\n",
       "      <th></th>\n",
       "      <th></th>\n",
       "      <th></th>\n",
       "      <th></th>\n",
       "      <th></th>\n",
       "      <th></th>\n",
       "    </tr>\n",
       "  </thead>\n",
       "  <tbody>\n",
       "    <tr>\n",
       "      <th>2011-02-10</th>\n",
       "      <td>132.110001</td>\n",
       "      <td>133.309998</td>\n",
       "      <td>132.000000</td>\n",
       "      <td>132.850006</td>\n",
       "      <td>46.092442</td>\n",
       "      <td>128.876541</td>\n",
       "      <td>131.462458</td>\n",
       "      <td>33.107729</td>\n",
       "      <td>-0.003989</td>\n",
       "      <td>0</td>\n",
       "      <td>NaN</td>\n",
       "    </tr>\n",
       "    <tr>\n",
       "      <th>2011-02-11</th>\n",
       "      <td>133.009995</td>\n",
       "      <td>133.440002</td>\n",
       "      <td>132.089996</td>\n",
       "      <td>132.320007</td>\n",
       "      <td>44.099798</td>\n",
       "      <td>129.153949</td>\n",
       "      <td>131.675929</td>\n",
       "      <td>31.074322</td>\n",
       "      <td>0.004761</td>\n",
       "      <td>1</td>\n",
       "      <td>-0.003989</td>\n",
       "    </tr>\n",
       "    <tr>\n",
       "      <th>2011-02-14</th>\n",
       "      <td>132.949997</td>\n",
       "      <td>133.380005</td>\n",
       "      <td>132.699997</td>\n",
       "      <td>132.949997</td>\n",
       "      <td>47.031123</td>\n",
       "      <td>129.414712</td>\n",
       "      <td>131.874588</td>\n",
       "      <td>29.186158</td>\n",
       "      <td>0.007672</td>\n",
       "      <td>1</td>\n",
       "      <td>0.004761</td>\n",
       "    </tr>\n",
       "    <tr>\n",
       "      <th>2011-02-15</th>\n",
       "      <td>133.860001</td>\n",
       "      <td>134.169998</td>\n",
       "      <td>133.630005</td>\n",
       "      <td>133.970001</td>\n",
       "      <td>51.468512</td>\n",
       "      <td>129.659829</td>\n",
       "      <td>132.094962</td>\n",
       "      <td>27.407409</td>\n",
       "      <td>0.000970</td>\n",
       "      <td>1</td>\n",
       "      <td>0.007672</td>\n",
       "    </tr>\n",
       "    <tr>\n",
       "      <th>2011-02-16</th>\n",
       "      <td>134.229996</td>\n",
       "      <td>134.860001</td>\n",
       "      <td>133.449997</td>\n",
       "      <td>134.100006</td>\n",
       "      <td>52.020217</td>\n",
       "      <td>130.020643</td>\n",
       "      <td>132.338897</td>\n",
       "      <td>26.263413</td>\n",
       "      <td>0.007010</td>\n",
       "      <td>1</td>\n",
       "      <td>0.000970</td>\n",
       "    </tr>\n",
       "  </tbody>\n",
       "</table>\n",
       "</div>"
      ],
      "text/plain": [
       "                  Open        High         Low       Close        RSI  \\\n",
       "Date                                                                    \n",
       "2011-02-10  132.110001  133.309998  132.000000  132.850006  46.092442   \n",
       "2011-02-11  133.009995  133.440002  132.089996  132.320007  44.099798   \n",
       "2011-02-14  132.949997  133.380005  132.699997  132.949997  47.031123   \n",
       "2011-02-15  133.860001  134.169998  133.630005  133.970001  51.468512   \n",
       "2011-02-16  134.229996  134.860001  133.449997  134.100006  52.020217   \n",
       "\n",
       "                  pSAR        TEMA        ADX  Future_Return  Target  \\\n",
       "Date                                                                   \n",
       "2011-02-10  128.876541  131.462458  33.107729      -0.003989       0   \n",
       "2011-02-11  129.153949  131.675929  31.074322       0.004761       1   \n",
       "2011-02-14  129.414712  131.874588  29.186158       0.007672       1   \n",
       "2011-02-15  129.659829  132.094962  27.407409       0.000970       1   \n",
       "2011-02-16  130.020643  132.338897  26.263413       0.007010       1   \n",
       "\n",
       "            Daily_Return  \n",
       "Date                      \n",
       "2011-02-10           NaN  \n",
       "2011-02-11     -0.003989  \n",
       "2011-02-14      0.004761  \n",
       "2011-02-15      0.007672  \n",
       "2011-02-16      0.000970  "
      ]
     },
     "execution_count": 210,
     "metadata": {},
     "output_type": "execute_result"
    }
   ],
   "source": [
    "strategy_data.head()"
   ]
  },
  {
   "cell_type": "markdown",
   "id": "fb94d11a",
   "metadata": {},
   "source": [
    "- Drop all columns except `Close` and `Daily_Return`"
   ]
  },
  {
   "cell_type": "code",
   "execution_count": 211,
   "id": "d7dbee83",
   "metadata": {
    "ExecuteTime": {
     "end_time": "2021-12-22T05:45:07.249904Z",
     "start_time": "2021-12-22T05:45:07.235901Z"
    }
   },
   "outputs": [],
   "source": [
    "strategy_data = strategy_data[['Close', 'Daily_Return']]"
   ]
  },
  {
   "cell_type": "code",
   "execution_count": 212,
   "id": "a32edd00",
   "metadata": {
    "ExecuteTime": {
     "end_time": "2021-12-22T05:45:07.281337Z",
     "start_time": "2021-12-22T05:45:07.251901Z"
    }
   },
   "outputs": [
    {
     "data": {
      "text/html": [
       "<div>\n",
       "<style scoped>\n",
       "    .dataframe tbody tr th:only-of-type {\n",
       "        vertical-align: middle;\n",
       "    }\n",
       "\n",
       "    .dataframe tbody tr th {\n",
       "        vertical-align: top;\n",
       "    }\n",
       "\n",
       "    .dataframe thead th {\n",
       "        text-align: right;\n",
       "    }\n",
       "</style>\n",
       "<table border=\"1\" class=\"dataframe\">\n",
       "  <thead>\n",
       "    <tr style=\"text-align: right;\">\n",
       "      <th></th>\n",
       "      <th>Close</th>\n",
       "      <th>Daily_Return</th>\n",
       "    </tr>\n",
       "    <tr>\n",
       "      <th>Date</th>\n",
       "      <th></th>\n",
       "      <th></th>\n",
       "    </tr>\n",
       "  </thead>\n",
       "  <tbody>\n",
       "    <tr>\n",
       "      <th>2011-02-10</th>\n",
       "      <td>132.850006</td>\n",
       "      <td>NaN</td>\n",
       "    </tr>\n",
       "    <tr>\n",
       "      <th>2011-02-11</th>\n",
       "      <td>132.320007</td>\n",
       "      <td>-0.003989</td>\n",
       "    </tr>\n",
       "    <tr>\n",
       "      <th>2011-02-14</th>\n",
       "      <td>132.949997</td>\n",
       "      <td>0.004761</td>\n",
       "    </tr>\n",
       "    <tr>\n",
       "      <th>2011-02-15</th>\n",
       "      <td>133.970001</td>\n",
       "      <td>0.007672</td>\n",
       "    </tr>\n",
       "    <tr>\n",
       "      <th>2011-02-16</th>\n",
       "      <td>134.100006</td>\n",
       "      <td>0.000970</td>\n",
       "    </tr>\n",
       "    <tr>\n",
       "      <th>...</th>\n",
       "      <td>...</td>\n",
       "      <td>...</td>\n",
       "    </tr>\n",
       "    <tr>\n",
       "      <th>2021-12-13</th>\n",
       "      <td>167.000000</td>\n",
       "      <td>0.002521</td>\n",
       "    </tr>\n",
       "    <tr>\n",
       "      <th>2021-12-14</th>\n",
       "      <td>165.440002</td>\n",
       "      <td>-0.009341</td>\n",
       "    </tr>\n",
       "    <tr>\n",
       "      <th>2021-12-15</th>\n",
       "      <td>166.149994</td>\n",
       "      <td>0.004292</td>\n",
       "    </tr>\n",
       "    <tr>\n",
       "      <th>2021-12-16</th>\n",
       "      <td>168.160004</td>\n",
       "      <td>0.012098</td>\n",
       "    </tr>\n",
       "    <tr>\n",
       "      <th>2021-12-17</th>\n",
       "      <td>167.800003</td>\n",
       "      <td>-0.002141</td>\n",
       "    </tr>\n",
       "  </tbody>\n",
       "</table>\n",
       "<p>2733 rows × 2 columns</p>\n",
       "</div>"
      ],
      "text/plain": [
       "                 Close  Daily_Return\n",
       "Date                                \n",
       "2011-02-10  132.850006           NaN\n",
       "2011-02-11  132.320007     -0.003989\n",
       "2011-02-14  132.949997      0.004761\n",
       "2011-02-15  133.970001      0.007672\n",
       "2011-02-16  134.100006      0.000970\n",
       "...                ...           ...\n",
       "2021-12-13  167.000000      0.002521\n",
       "2021-12-14  165.440002     -0.009341\n",
       "2021-12-15  166.149994      0.004292\n",
       "2021-12-16  168.160004      0.012098\n",
       "2021-12-17  167.800003     -0.002141\n",
       "\n",
       "[2733 rows x 2 columns]"
      ]
     },
     "execution_count": 212,
     "metadata": {},
     "output_type": "execute_result"
    }
   ],
   "source": [
    "strategy_data"
   ]
  },
  {
   "cell_type": "markdown",
   "id": "91c160f5",
   "metadata": {},
   "source": [
    "- Get the `strategy_data` that corresponds to the `y_pred` values"
   ]
  },
  {
   "cell_type": "code",
   "execution_count": 214,
   "id": "731ced6f",
   "metadata": {
    "ExecuteTime": {
     "end_time": "2021-12-22T05:45:07.313330Z",
     "start_time": "2021-12-22T05:45:07.299332Z"
    }
   },
   "outputs": [],
   "source": [
    "strategy_test = strategy_data[split:]"
   ]
  },
  {
   "cell_type": "markdown",
   "id": "29b50934",
   "metadata": {},
   "source": [
    "- Check the shape of `strategy_test` and `y_pred`"
   ]
  },
  {
   "cell_type": "code",
   "execution_count": 215,
   "id": "90374945",
   "metadata": {
    "ExecuteTime": {
     "end_time": "2021-12-22T05:45:07.329333Z",
     "start_time": "2021-12-22T05:45:07.315337Z"
    }
   },
   "outputs": [
    {
     "data": {
      "text/plain": [
       "((684, 2), (684,))"
      ]
     },
     "execution_count": 215,
     "metadata": {},
     "output_type": "execute_result"
    }
   ],
   "source": [
    "strategy_test.shape, y_pred.shape"
   ]
  },
  {
   "cell_type": "markdown",
   "id": "6167c0a3",
   "metadata": {
    "ExecuteTime": {
     "end_time": "2021-12-22T04:11:36.472067Z",
     "start_time": "2021-12-22T04:11:36.460068Z"
    }
   },
   "source": [
    "- Add `y_pred` as a column to `stragegy_test`"
   ]
  },
  {
   "cell_type": "code",
   "execution_count": 216,
   "id": "1fb91d3c",
   "metadata": {
    "ExecuteTime": {
     "end_time": "2021-12-22T05:45:07.345331Z",
     "start_time": "2021-12-22T05:45:07.331333Z"
    }
   },
   "outputs": [],
   "source": [
    "strategy_test['Predicted_Signal'] = y_pred.tolist()"
   ]
  },
  {
   "cell_type": "code",
   "execution_count": 217,
   "id": "f79c9e61",
   "metadata": {
    "ExecuteTime": {
     "end_time": "2021-12-22T05:45:07.363388Z",
     "start_time": "2021-12-22T05:45:07.347748Z"
    }
   },
   "outputs": [
    {
     "data": {
      "text/html": [
       "<div>\n",
       "<style scoped>\n",
       "    .dataframe tbody tr th:only-of-type {\n",
       "        vertical-align: middle;\n",
       "    }\n",
       "\n",
       "    .dataframe tbody tr th {\n",
       "        vertical-align: top;\n",
       "    }\n",
       "\n",
       "    .dataframe thead th {\n",
       "        text-align: right;\n",
       "    }\n",
       "</style>\n",
       "<table border=\"1\" class=\"dataframe\">\n",
       "  <thead>\n",
       "    <tr style=\"text-align: right;\">\n",
       "      <th></th>\n",
       "      <th>Close</th>\n",
       "      <th>Daily_Return</th>\n",
       "      <th>Predicted_Signal</th>\n",
       "    </tr>\n",
       "    <tr>\n",
       "      <th>Date</th>\n",
       "      <th></th>\n",
       "      <th></th>\n",
       "      <th></th>\n",
       "    </tr>\n",
       "  </thead>\n",
       "  <tbody>\n",
       "    <tr>\n",
       "      <th>2019-04-04</th>\n",
       "      <td>122.110001</td>\n",
       "      <td>0.002545</td>\n",
       "      <td>0</td>\n",
       "    </tr>\n",
       "    <tr>\n",
       "      <th>2019-04-05</th>\n",
       "      <td>121.980003</td>\n",
       "      <td>-0.001065</td>\n",
       "      <td>0</td>\n",
       "    </tr>\n",
       "    <tr>\n",
       "      <th>2019-04-08</th>\n",
       "      <td>122.510002</td>\n",
       "      <td>0.004345</td>\n",
       "      <td>0</td>\n",
       "    </tr>\n",
       "    <tr>\n",
       "      <th>2019-04-09</th>\n",
       "      <td>123.150002</td>\n",
       "      <td>0.005224</td>\n",
       "      <td>0</td>\n",
       "    </tr>\n",
       "    <tr>\n",
       "      <th>2019-04-10</th>\n",
       "      <td>123.529999</td>\n",
       "      <td>0.003086</td>\n",
       "      <td>0</td>\n",
       "    </tr>\n",
       "    <tr>\n",
       "      <th>...</th>\n",
       "      <td>...</td>\n",
       "      <td>...</td>\n",
       "      <td>...</td>\n",
       "    </tr>\n",
       "    <tr>\n",
       "      <th>2021-12-13</th>\n",
       "      <td>167.000000</td>\n",
       "      <td>0.002521</td>\n",
       "      <td>0</td>\n",
       "    </tr>\n",
       "    <tr>\n",
       "      <th>2021-12-14</th>\n",
       "      <td>165.440002</td>\n",
       "      <td>-0.009341</td>\n",
       "      <td>0</td>\n",
       "    </tr>\n",
       "    <tr>\n",
       "      <th>2021-12-15</th>\n",
       "      <td>166.149994</td>\n",
       "      <td>0.004292</td>\n",
       "      <td>0</td>\n",
       "    </tr>\n",
       "    <tr>\n",
       "      <th>2021-12-16</th>\n",
       "      <td>168.160004</td>\n",
       "      <td>0.012098</td>\n",
       "      <td>0</td>\n",
       "    </tr>\n",
       "    <tr>\n",
       "      <th>2021-12-17</th>\n",
       "      <td>167.800003</td>\n",
       "      <td>-0.002141</td>\n",
       "      <td>0</td>\n",
       "    </tr>\n",
       "  </tbody>\n",
       "</table>\n",
       "<p>684 rows × 3 columns</p>\n",
       "</div>"
      ],
      "text/plain": [
       "                 Close  Daily_Return  Predicted_Signal\n",
       "Date                                                  \n",
       "2019-04-04  122.110001      0.002545                 0\n",
       "2019-04-05  121.980003     -0.001065                 0\n",
       "2019-04-08  122.510002      0.004345                 0\n",
       "2019-04-09  123.150002      0.005224                 0\n",
       "2019-04-10  123.529999      0.003086                 0\n",
       "...                ...           ...               ...\n",
       "2021-12-13  167.000000      0.002521                 0\n",
       "2021-12-14  165.440002     -0.009341                 0\n",
       "2021-12-15  166.149994      0.004292                 0\n",
       "2021-12-16  168.160004      0.012098                 0\n",
       "2021-12-17  167.800003     -0.002141                 0\n",
       "\n",
       "[684 rows x 3 columns]"
      ]
     },
     "execution_count": 217,
     "metadata": {},
     "output_type": "execute_result"
    }
   ],
   "source": [
    "strategy_test"
   ]
  },
  {
   "cell_type": "markdown",
   "id": "498823fb",
   "metadata": {
    "ExecuteTime": {
     "end_time": "2021-12-22T04:24:06.784510Z",
     "start_time": "2021-12-22T04:24:06.767513Z"
    }
   },
   "source": [
    "- Calculate Strategy Returns\n",
    "\n",
    "> To calculate strategy returns, the `Daily_Return` is multiplied by the previous day's `Predicted_Signal`. Here, it is assumed that the corresponding execution happens at the close of the day."
   ]
  },
  {
   "cell_type": "code",
   "execution_count": 218,
   "id": "9444fb05",
   "metadata": {
    "ExecuteTime": {
     "end_time": "2021-12-22T05:45:07.379012Z",
     "start_time": "2021-12-22T05:45:07.363388Z"
    }
   },
   "outputs": [],
   "source": [
    "strategy_test['Strategy_Returns'] = (strategy_test['Daily_Return'] * strategy_test['Predicted_Signal'].shift(1))"
   ]
  },
  {
   "cell_type": "code",
   "execution_count": 219,
   "id": "485cb9d4",
   "metadata": {
    "ExecuteTime": {
     "end_time": "2021-12-22T05:45:07.394637Z",
     "start_time": "2021-12-22T05:45:07.379012Z"
    }
   },
   "outputs": [
    {
     "data": {
      "text/html": [
       "<div>\n",
       "<style scoped>\n",
       "    .dataframe tbody tr th:only-of-type {\n",
       "        vertical-align: middle;\n",
       "    }\n",
       "\n",
       "    .dataframe tbody tr th {\n",
       "        vertical-align: top;\n",
       "    }\n",
       "\n",
       "    .dataframe thead th {\n",
       "        text-align: right;\n",
       "    }\n",
       "</style>\n",
       "<table border=\"1\" class=\"dataframe\">\n",
       "  <thead>\n",
       "    <tr style=\"text-align: right;\">\n",
       "      <th></th>\n",
       "      <th>Close</th>\n",
       "      <th>Daily_Return</th>\n",
       "      <th>Predicted_Signal</th>\n",
       "      <th>Strategy_Returns</th>\n",
       "    </tr>\n",
       "    <tr>\n",
       "      <th>Date</th>\n",
       "      <th></th>\n",
       "      <th></th>\n",
       "      <th></th>\n",
       "      <th></th>\n",
       "    </tr>\n",
       "  </thead>\n",
       "  <tbody>\n",
       "    <tr>\n",
       "      <th>2019-04-04</th>\n",
       "      <td>122.110001</td>\n",
       "      <td>0.002545</td>\n",
       "      <td>0</td>\n",
       "      <td>NaN</td>\n",
       "    </tr>\n",
       "    <tr>\n",
       "      <th>2019-04-05</th>\n",
       "      <td>121.980003</td>\n",
       "      <td>-0.001065</td>\n",
       "      <td>0</td>\n",
       "      <td>-0.0</td>\n",
       "    </tr>\n",
       "    <tr>\n",
       "      <th>2019-04-08</th>\n",
       "      <td>122.510002</td>\n",
       "      <td>0.004345</td>\n",
       "      <td>0</td>\n",
       "      <td>0.0</td>\n",
       "    </tr>\n",
       "    <tr>\n",
       "      <th>2019-04-09</th>\n",
       "      <td>123.150002</td>\n",
       "      <td>0.005224</td>\n",
       "      <td>0</td>\n",
       "      <td>0.0</td>\n",
       "    </tr>\n",
       "    <tr>\n",
       "      <th>2019-04-10</th>\n",
       "      <td>123.529999</td>\n",
       "      <td>0.003086</td>\n",
       "      <td>0</td>\n",
       "      <td>0.0</td>\n",
       "    </tr>\n",
       "  </tbody>\n",
       "</table>\n",
       "</div>"
      ],
      "text/plain": [
       "                 Close  Daily_Return  Predicted_Signal  Strategy_Returns\n",
       "Date                                                                    \n",
       "2019-04-04  122.110001      0.002545                 0               NaN\n",
       "2019-04-05  121.980003     -0.001065                 0              -0.0\n",
       "2019-04-08  122.510002      0.004345                 0               0.0\n",
       "2019-04-09  123.150002      0.005224                 0               0.0\n",
       "2019-04-10  123.529999      0.003086                 0               0.0"
      ]
     },
     "execution_count": 219,
     "metadata": {},
     "output_type": "execute_result"
    }
   ],
   "source": [
    "strategy_test.head()"
   ]
  },
  {
   "cell_type": "markdown",
   "id": "e8a1ee72",
   "metadata": {},
   "source": [
    "- Drop `NaNs`"
   ]
  },
  {
   "cell_type": "code",
   "execution_count": 220,
   "id": "6d2f067c",
   "metadata": {
    "ExecuteTime": {
     "end_time": "2021-12-22T05:45:07.410262Z",
     "start_time": "2021-12-22T05:45:07.394637Z"
    }
   },
   "outputs": [],
   "source": [
    "strategy_test = strategy_test.dropna()"
   ]
  },
  {
   "cell_type": "markdown",
   "id": "33d5fce6",
   "metadata": {},
   "source": [
    "- Calculate cumulative strategy returns"
   ]
  },
  {
   "cell_type": "code",
   "execution_count": 221,
   "id": "bd27bb2c",
   "metadata": {
    "ExecuteTime": {
     "end_time": "2021-12-22T05:45:07.425888Z",
     "start_time": "2021-12-22T05:45:07.410262Z"
    }
   },
   "outputs": [],
   "source": [
    "cumulative_strategy_returns = (strategy_test['Strategy_Returns']+1).cumprod()"
   ]
  },
  {
   "cell_type": "markdown",
   "id": "74479575",
   "metadata": {},
   "source": [
    "- Calculate absolute returns"
   ]
  },
  {
   "cell_type": "code",
   "execution_count": 222,
   "id": "9ac62cdd",
   "metadata": {
    "ExecuteTime": {
     "end_time": "2021-12-22T05:45:07.441515Z",
     "start_time": "2021-12-22T05:45:07.425888Z"
    }
   },
   "outputs": [
    {
     "name": "stdout",
     "output_type": "stream",
     "text": [
      "The total returns of strategy is 39.62%\n"
     ]
    }
   ],
   "source": [
    "total_returns = (cumulative_strategy_returns.iloc[-1]-1)*100\n",
    "\n",
    "print('The total returns of strategy is %.2f' % total_returns + '%')"
   ]
  },
  {
   "cell_type": "markdown",
   "id": "03cf39b8",
   "metadata": {},
   "source": [
    "## Findings"
   ]
  },
  {
   "cell_type": "markdown",
   "id": "4b74fbb0",
   "metadata": {},
   "source": [
    "1. The Random Forest Classifier model was able a generate return of 39.62%, on the test data, which is greater than the return of 6.31% generated by the mechanical system.\n",
    "\n",
    "\n",
    "2. Although the accuracy and f1 scores were lower than desired, they are still better slightly better than average.  Further, this model had higher bias and variance than the both the Decision Tree Classifier and Logistics Regression models.\n",
    "\n",
    "\n",
    "3. The model had the least amount of variance between the its training and test metrics (accuracy and f1) of the three models _(the other two are Logistic Regression and Decision Tree)._\n",
    "\n",
    "\n",
    "4. The model metrics, and subseqent strategy performance, improved with an increase in data. Initially, the model achieved less performing metrics on two years of data from December 2019 to December 2021. After expanding the dataset to 10 years (December 2011 to December 2021), the model's metrics improved."
   ]
  }
 ],
 "metadata": {
  "kernelspec": {
   "display_name": "Python 3 (ipykernel)",
   "language": "python",
   "name": "python3"
  },
  "language_info": {
   "codemirror_mode": {
    "name": "ipython",
    "version": 3
   },
   "file_extension": ".py",
   "mimetype": "text/x-python",
   "name": "python",
   "nbconvert_exporter": "python",
   "pygments_lexer": "ipython3",
   "version": "3.8.12"
  }
 },
 "nbformat": 4,
 "nbformat_minor": 5
}
